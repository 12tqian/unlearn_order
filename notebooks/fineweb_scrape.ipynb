{
 "cells": [
  {
   "cell_type": "code",
   "execution_count": 1,
   "metadata": {},
   "outputs": [
    {
     "name": "stdout",
     "output_type": "stream",
     "text": [
      "Loaded environment variables from .env file.\n"
     ]
    }
   ],
   "source": [
    "%load_ext autoreload\n",
    "%autoreload 2\n",
    "\n",
    "import sys\n",
    "import os\n",
    "import dotenv\n",
    "from pathlib import Path\n",
    "\n",
    "env_file = \"../.env\"\n",
    "\n",
    "if os.path.exists(env_file):\n",
    "    dotenv.load_dotenv(env_file, verbose=True)\n",
    "    print(\"Loaded environment variables from .env file.\")\n",
    "\n",
    "cwd = os.getcwd()\n",
    "# for some reason appending to PATH you need it to be string\n",
    "sys.path.append(str(Path(cwd).parent / \"src\"))\n",
    "hf_access_token = os.getenv(\"HUGGINGFACE_API_KEY\")"
   ]
  },
  {
   "cell_type": "code",
   "execution_count": 2,
   "metadata": {},
   "outputs": [
    {
     "data": {
      "application/vnd.jupyter.widget-view+json": {
       "model_id": "32ac65be3b8c4240ad18de281b38a41b",
       "version_major": 2,
       "version_minor": 0
      },
      "text/plain": [
       "Resolving data files:   0%|          | 0/1630 [00:00<?, ?it/s]"
      ]
     },
     "metadata": {},
     "output_type": "display_data"
    },
    {
     "data": {
      "application/vnd.jupyter.widget-view+json": {
       "model_id": "244cb9597dfa49ffb09ad1de247654ab",
       "version_major": 2,
       "version_minor": 0
      },
      "text/plain": [
       "Resolving data files:   0%|          | 0/1630 [00:00<?, ?it/s]"
      ]
     },
     "metadata": {},
     "output_type": "display_data"
    },
    {
     "name": "stdout",
     "output_type": "stream",
     "text": [
      "Collected 10000 samples.\n"
     ]
    }
   ],
   "source": [
    "from datasets import load_dataset\n",
    "from research_tools.utils import set_seed\n",
    "\n",
    "set_seed(42)\n",
    "\n",
    "# Parameters\n",
    "num_samples = 10000  # Number of samples to collect\n",
    "\n",
    "# Load the dataset in streaming mode\n",
    "dataset = load_dataset(\"HuggingFaceFW/fineweb-edu\", split=\"train\", streaming=True)\n",
    "shuffled_dataset = dataset.shuffle(seed=42, buffer_size=10_000)\n",
    "# Reservoir sampling\n",
    "# Define the number of samples you want\n",
    "num_samples = 10000\n",
    "\n",
    "# Use an iterator to avoid downloading everything\n",
    "sampled_data = []\n",
    "for idx, item in enumerate(dataset):\n",
    "    if idx < num_samples:\n",
    "        sampled_data.append(item)\n",
    "    else:\n",
    "        break\n",
    "\n",
    "print(f\"Collected {len(sampled_data)} samples.\")"
   ]
  },
  {
   "cell_type": "code",
   "execution_count": 6,
   "metadata": {},
   "outputs": [],
   "source": [
    "from pathlib import Path\n",
    "import json\n",
    "\n",
    "data_dir = Path(\"../data\")\n",
    "\n",
    "file_path = data_dir / \"fineweb-edu\" / \"corpus_split_0.jsonl\"\n",
    "# split data into 5\n",
    "for i in range(5):\n",
    "    start = num_samples // 5 * i\n",
    "    end = num_samples // 5 * (i + 1)\n",
    "    split = sampled_data[start:end]\n",
    "    file_path = data_dir / \"fineweb-edu\" / f\"corpus_split_{i}.jsonl\"\n",
    "    file_path.parent.mkdir(parents=True, exist_ok=True)\n",
    "    with open(file_path, \"w\") as f:\n",
    "        for item in split:\n",
    "            f.write(json.dumps(item))\n",
    "            f.write(\"\\n\")"
   ]
  },
  {
   "cell_type": "code",
   "execution_count": null,
   "metadata": {},
   "outputs": [],
   "source": []
  }
 ],
 "metadata": {
  "kernelspec": {
   "display_name": "venv",
   "language": "python",
   "name": "python3"
  },
  "language_info": {
   "codemirror_mode": {
    "name": "ipython",
    "version": 3
   },
   "file_extension": ".py",
   "mimetype": "text/x-python",
   "name": "python",
   "nbconvert_exporter": "python",
   "pygments_lexer": "ipython3",
   "version": "3.12.2"
  }
 },
 "nbformat": 4,
 "nbformat_minor": 2
}
