{
 "cells": [
  {
   "cell_type": "code",
   "execution_count": 13,
   "metadata": {},
   "outputs": [
    {
     "name": "stdout",
     "output_type": "stream",
     "text": [
      "Create sweep with ID: 62er7wi9\n",
      "Sweep URL: https://wandb.ai/12tqian/relearn/sweeps/62er7wi9\n"
     ]
    }
   ],
   "source": [
    "import wandb\n",
    "\n",
    "# Example sweep configuration\n",
    "sweep_configuration = {\n",
    "    \"method\": \"bayes\",\n",
    "    \"name\": \"rmu_retain\",\n",
    "    \"metric\": {\"goal\": \"minimize\", \"name\": \"score\"},\n",
    "    \"parameters\": {\n",
    "        \"A_alpha\": {\"distribution\": \"log_uniform_values\", \"min\": 0.25, \"max\": 8},\n",
    "        \"B_alpha\": {\"distribution\": \"log_uniform_values\", \"min\": 0.5, \"max\": 32},\n",
    "    },\n",
    "}\n",
    "\n",
    "sweep_id = wandb.sweep(sweep=sweep_configuration, project=\"relearn\", entity=\"12tqian\")"
   ]
  },
  {
   "cell_type": "code",
   "execution_count": 14,
   "metadata": {},
   "outputs": [
    {
     "name": "stdout",
     "output_type": "stream",
     "text": [
      "62er7wi9\n"
     ]
    }
   ],
   "source": [
    "print(sweep_id)"
   ]
  },
  {
   "cell_type": "code",
   "execution_count": null,
   "metadata": {},
   "outputs": [],
   "source": []
  }
 ],
 "metadata": {
  "kernelspec": {
   "display_name": "Python 3 (ipykernel)",
   "language": "python",
   "name": "python3"
  }
 },
 "nbformat": 4,
 "nbformat_minor": 2
}
