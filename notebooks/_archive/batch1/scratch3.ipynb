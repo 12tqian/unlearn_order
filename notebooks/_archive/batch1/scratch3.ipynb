{
 "cells": [
  {
   "cell_type": "code",
   "execution_count": 1,
   "metadata": {},
   "outputs": [
    {
     "name": "stdout",
     "output_type": "stream",
     "text": [
      "Loaded environment variables from .env file.\n"
     ]
    }
   ],
   "source": [
    "%load_ext autoreload\n",
    "%autoreload 2\n",
    "\n",
    "import sys\n",
    "import os\n",
    "import dotenv\n",
    "from pathlib import Path\n",
    "\n",
    "env_file = \"../.env\"\n",
    "\n",
    "if os.path.exists(env_file):\n",
    "    dotenv.load_dotenv(env_file, verbose=True)\n",
    "    print(\"Loaded environment variables from .env file.\")\n",
    "\n",
    "cwd = os.getcwd()\n",
    "# for some reason appending to PATH you need it to be string\n",
    "sys.path.append(str(Path(cwd).parent / \"src\"))\n",
    "hf_access_token = os.getenv(\"HUGGINGFACE_API_KEY\")"
   ]
  },
  {
   "cell_type": "code",
   "execution_count": 2,
   "metadata": {},
   "outputs": [
    {
     "data": {
      "application/vnd.jupyter.widget-view+json": {
       "model_id": "e14b684ba65a47cea8585299ac2b08d9",
       "version_major": 2,
       "version_minor": 0
      },
      "text/plain": [
       "Loading checkpoint shards:   0%|          | 0/4 [00:00<?, ?it/s]"
      ]
     },
     "metadata": {},
     "output_type": "display_data"
    }
   ],
   "source": [
    "import torch\n",
    "from research_tools import get_gpus_available\n",
    "from transformers import AutoModelForCausalLM, AutoTokenizer\n",
    "from transformers import LlamaForCausalLM, LlamaTokenizer\n",
    "\n",
    "\n",
    "os.environ[\"CUDA_VISIBLE_DEVICES\"] = \",\".join([str(i) for i in get_gpus_available()])\n",
    "model_dtype = torch.bfloat16\n",
    "device = torch.device(\"cuda\" if torch.cuda.is_available() else \"cpu\")\n",
    "assert device.type == \"cuda\", \"No GPU available.\"\n",
    "\n",
    "model_name = \"meta-llama/Meta-Llama-3-8B\"\n",
    "\n",
    "model: LlamaForCausalLM = AutoModelForCausalLM.from_pretrained(\n",
    "    model_name, token=hf_access_token, torch_dtype=model_dtype\n",
    ")\n",
    "model = model.to(device)\n",
    "\n",
    "tokenizer: LlamaTokenizer = AutoTokenizer.from_pretrained(\n",
    "    model_name, token=hf_access_token\n",
    ")\n",
    "tokenizer.pad_token_id = tokenizer.eos_token_id\n",
    "tokenizer.padding_side = \"left\""
   ]
  },
  {
   "cell_type": "code",
   "execution_count": null,
   "metadata": {},
   "outputs": [
    {
     "data": {
      "application/vnd.jupyter.widget-view+json": {
       "model_id": "e14b684ba65a47cea8585299ac2b08d9",
       "version_major": 2,
       "version_minor": 0
      },
      "text/plain": [
       "Loading checkpoint shards:   0%|          | 0/4 [00:00<?, ?it/s]"
      ]
     },
     "metadata": {},
     "output_type": "display_data"
    }
   ],
   "source": [
    "import torch\n",
    "from research_tools import get_gpus_available\n",
    "from transformers import AutoModelForCausalLM, AutoTokenizer\n",
    "from transformers import LlamaForCausalLM, LlamaTokenizer\n",
    "\n",
    "\n",
    "os.environ[\"CUDA_VISIBLE_DEVICES\"] = \",\".join([str(i) for i in get_gpus_available()])\n",
    "model_dtype = torch.bfloat16\n",
    "device = torch.device(\"cuda\" if torch.cuda.is_available() else \"cpu\")\n",
    "assert device.type == \"cuda\", \"No GPU available.\"\n",
    "\n",
    "model_name = \"meta-llama/Meta-Llama-3-8B\"\n",
    "\n",
    "model: LlamaForCausalLM = AutoModelForCausalLM.from_pretrained(\n",
    "    model_name, token=hf_access_token, torch_dtype=model_dtype\n",
    ")\n",
    "model = model.to(device)\n",
    "\n",
    "tokenizer: LlamaTokenizer = AutoTokenizer.from_pretrained(\n",
    "    model_name, token=hf_access_token\n",
    ")\n",
    "tokenizer.pad_token_id = tokenizer.eos_token_id\n",
    "tokenizer.padding_side = \"left\""
   ]
  },
  {
   "cell_type": "code",
   "execution_count": 3,
   "metadata": {},
   "outputs": [
    {
     "name": "stdout",
     "output_type": "stream",
     "text": [
      "0.5822784810126582 0.5886075949367089 0.5923566878980892 0.2611464968152866\n"
     ]
    }
   ],
   "source": [
    "from unlearn_order.dataset import load_dataset\n",
    "\n",
    "train_dataset = load_dataset(\n",
    "    data_dir=Path(\"../data/dates-years-trimmed\"),\n",
    "    files=[\n",
    "        \"split_0.jsonl\",\n",
    "    ],\n",
    ")\n",
    "\n",
    "val_dataset = load_dataset(\n",
    "    data_dir=Path(\"../data/dates-years-trimmed\"),\n",
    "    files=[\n",
    "        \"split_1.jsonl\",\n",
    "    ],\n",
    ")\n",
    "\n",
    "other_dataset = load_dataset(\n",
    "    data_dir=Path(\"../data/wmdp-deduped\"),\n",
    "    files=[\n",
    "        \"split_0.jsonl\",\n",
    "    ],\n",
    ")\n",
    "\n",
    "fail_datset = load_dataset(\n",
    "    data_dir=Path(\"../data/random_bd\"),\n",
    "    files=[\n",
    "        \"split_0.jsonl\",\n",
    "    ],\n",
    ")\n",
    "\n",
    "\n",
    "from unlearn_order.eval import eval_dataset\n",
    "\n",
    "train_acc = eval_dataset(model, tokenizer, train_dataset, 4)\n",
    "val_acc = eval_dataset(model, tokenizer, val_dataset, 4)\n",
    "other_acc = eval_dataset(model, tokenizer, other_dataset, 4)\n",
    "fail_acc = eval_dataset(model, tokenizer, fail_datset, 4)\n",
    "print(train_acc, val_acc, other_acc, fail_acc)"
   ]
  },
  {
   "cell_type": "code",
   "execution_count": 4,
   "metadata": {},
   "outputs": [
    {
     "name": "stdout",
     "output_type": "stream",
     "text": [
      "0.5949367088607594 0.569620253164557\n"
     ]
    }
   ],
   "source": [
    "train_first_half = train_dataset.select(range(0, len(train_dataset), 2))\n",
    "train_second_half = train_dataset.select(range(1, len(train_dataset), 2))\n",
    "first_half_acc = eval_dataset(model, tokenizer, train_first_half, 4)\n",
    "second_half_acc = eval_dataset(model, tokenizer, train_second_half, 4)\n",
    "print(first_half_acc, second_half_acc)"
   ]
  },
  {
   "cell_type": "code",
   "execution_count": 5,
   "metadata": {},
   "outputs": [
    {
     "name": "stderr",
     "output_type": "stream",
     "text": [
      "  1%|          | 1/100 [00:08<13:18,  8.06s/it]"
     ]
    },
    {
     "name": "stdout",
     "output_type": "stream",
     "text": [
      "Epoch 1 loss: 0.17795782536268234 acc: 0.6962025316455697\n"
     ]
    },
    {
     "name": "stderr",
     "output_type": "stream",
     "text": [
      "  2%|▏         | 2/100 [00:15<13:01,  7.97s/it]"
     ]
    },
    {
     "name": "stdout",
     "output_type": "stream",
     "text": [
      "Epoch 2 loss: 0.06355070452429826 acc: 0.7341772151898734\n"
     ]
    },
    {
     "name": "stderr",
     "output_type": "stream",
     "text": [
      "  3%|▎         | 3/100 [00:23<12:51,  7.95s/it]"
     ]
    },
    {
     "name": "stdout",
     "output_type": "stream",
     "text": [
      "Epoch 3 loss: 0.07927035745174353 acc: 0.7848101265822784\n"
     ]
    },
    {
     "name": "stderr",
     "output_type": "stream",
     "text": [
      "  4%|▍         | 4/100 [00:31<12:43,  7.96s/it]"
     ]
    },
    {
     "name": "stdout",
     "output_type": "stream",
     "text": [
      "Epoch 4 loss: 0.0649792079466006 acc: 0.810126582278481\n"
     ]
    },
    {
     "name": "stderr",
     "output_type": "stream",
     "text": [
      "  5%|▌         | 5/100 [00:39<12:35,  7.95s/it]"
     ]
    },
    {
     "name": "stdout",
     "output_type": "stream",
     "text": [
      "Epoch 5 loss: 0.05012248876752167 acc: 0.8481012658227848\n"
     ]
    },
    {
     "name": "stderr",
     "output_type": "stream",
     "text": [
      "  6%|▌         | 6/100 [00:47<12:26,  7.94s/it]"
     ]
    },
    {
     "name": "stdout",
     "output_type": "stream",
     "text": [
      "Epoch 6 loss: 0.03364665748638431 acc: 0.8734177215189873\n"
     ]
    },
    {
     "name": "stderr",
     "output_type": "stream",
     "text": [
      "  7%|▋         | 7/100 [00:55<12:17,  7.93s/it]"
     ]
    },
    {
     "name": "stdout",
     "output_type": "stream",
     "text": [
      "Epoch 7 loss: 0.0365352377861361 acc: 0.8860759493670886\n"
     ]
    },
    {
     "name": "stderr",
     "output_type": "stream",
     "text": [
      "  7%|▋         | 7/100 [01:03<14:04,  9.09s/it]"
     ]
    },
    {
     "name": "stdout",
     "output_type": "stream",
     "text": [
      "Epoch 8 loss: 0.03494158500210158 acc: 0.9367088607594937\n"
     ]
    },
    {
     "name": "stderr",
     "output_type": "stream",
     "text": [
      "\n"
     ]
    },
    {
     "name": "stdout",
     "output_type": "stream",
     "text": [
      "0.9367088607594937 0.6329113924050633\n"
     ]
    }
   ],
   "source": [
    "from unlearn_order.finetune import finetune_model\n",
    "\n",
    "\n",
    "model, _, _ = finetune_model(\n",
    "    model,\n",
    "    tokenizer,\n",
    "    train_first_half,\n",
    "    batch_size=4,\n",
    "    shuffle_labels=False,\n",
    "    eval_every=1,\n",
    "    tolerance=0.1,\n",
    "    lr=3e-6,\n",
    ")\n",
    "\n",
    "train_first_half_acc = eval_dataset(model, tokenizer, train_first_half, 4)\n",
    "train_second_half_acc = eval_dataset(model, tokenizer, train_second_half, 4)\n",
    "print(train_first_half_acc, train_second_half_acc)"
   ]
  },
  {
   "cell_type": "code",
   "execution_count": 6,
   "metadata": {},
   "outputs": [
    {
     "name": "stderr",
     "output_type": "stream",
     "text": [
      "  4%|▍         | 4/100 [01:57<47:05, 29.43s/it]"
     ]
    },
    {
     "name": "stdout",
     "output_type": "stream",
     "text": [
      "Epoch 5 loss: 0.05223790063416656 acc: 0.2626582278481013\n"
     ]
    },
    {
     "name": "stderr",
     "output_type": "stream",
     "text": [
      "\n"
     ]
    },
    {
     "name": "stdout",
     "output_type": "stream",
     "text": [
      "0.2974683544303797 0.22784810126582278 0.40764331210191085 0.2484076433121019\n"
     ]
    }
   ],
   "source": [
    "from unlearn_order.finetune import finetune_model\n",
    "from datasets.combine import interleave_datasets\n",
    "\n",
    "model, _, _ = finetune_model(\n",
    "    model,\n",
    "    tokenizer,\n",
    "    interleave_datasets([train_dataset, val_dataset]),\n",
    "    batch_size=4,\n",
    "    shuffle_labels=True,\n",
    "    eval_every=5,\n",
    "    tolerance=0.02,\n",
    ")\n",
    "\n",
    "train_acc = eval_dataset(model, tokenizer, train_dataset, 4)\n",
    "val_acc = eval_dataset(model, tokenizer, val_dataset, 4)\n",
    "other_acc = eval_dataset(model, tokenizer, other_dataset, 4)\n",
    "fail_acc = eval_dataset(model, tokenizer, fail_datset, 4)\n",
    "print(train_acc, val_acc, other_acc, fail_acc)"
   ]
  },
  {
   "cell_type": "code",
   "execution_count": null,
   "metadata": {},
   "outputs": [],
   "source": []
  },
  {
   "cell_type": "code",
   "execution_count": 5,
   "metadata": {},
   "outputs": [
    {
     "name": "stderr",
     "output_type": "stream",
     "text": [
      "  1%|          | 1/100 [00:16<26:24, 16.00s/it]"
     ]
    },
    {
     "name": "stdout",
     "output_type": "stream",
     "text": [
      "Epoch 1 loss: 0.07710242445898961 acc: 0.2974683544303797\n"
     ]
    },
    {
     "name": "stderr",
     "output_type": "stream",
     "text": [
      "  2%|▏         | 2/100 [00:31<25:55, 15.87s/it]"
     ]
    },
    {
     "name": "stdout",
     "output_type": "stream",
     "text": [
      "Epoch 2 loss: 0.05880070760657516 acc: 0.34177215189873417\n"
     ]
    },
    {
     "name": "stderr",
     "output_type": "stream",
     "text": [
      "  3%|▎         | 3/100 [00:47<25:33, 15.81s/it]"
     ]
    },
    {
     "name": "stdout",
     "output_type": "stream",
     "text": [
      "Epoch 3 loss: 0.052665976831052876 acc: 0.3291139240506329\n"
     ]
    },
    {
     "name": "stderr",
     "output_type": "stream",
     "text": [
      "  4%|▍         | 4/100 [01:03<25:14, 15.78s/it]"
     ]
    },
    {
     "name": "stdout",
     "output_type": "stream",
     "text": [
      "Epoch 4 loss: 0.05621701535544818 acc: 0.35443037974683544\n"
     ]
    },
    {
     "name": "stderr",
     "output_type": "stream",
     "text": [
      "  5%|▌         | 5/100 [01:19<25:00, 15.80s/it]"
     ]
    },
    {
     "name": "stdout",
     "output_type": "stream",
     "text": [
      "Epoch 5 loss: 0.04384143865089628 acc: 0.5886075949367089\n"
     ]
    },
    {
     "name": "stderr",
     "output_type": "stream",
     "text": [
      "  5%|▌         | 5/100 [01:34<30:01, 18.96s/it]"
     ]
    },
    {
     "name": "stdout",
     "output_type": "stream",
     "text": [
      "Epoch 6 loss: 0.04451945335663195 acc: 0.8924050632911392\n"
     ]
    },
    {
     "name": "stderr",
     "output_type": "stream",
     "text": [
      "\n"
     ]
    },
    {
     "name": "stdout",
     "output_type": "stream",
     "text": [
      "0.8924050632911392 0.26582278481012656 0.27388535031847133 0.22929936305732485\n"
     ]
    }
   ],
   "source": [
    "from unlearn_order.finetune import finetune_model\n",
    "\n",
    "\n",
    "model, _, _ = finetune_model(\n",
    "    model,\n",
    "    tokenizer,\n",
    "    train_dataset,\n",
    "    batch_size=4,\n",
    "    shuffle_labels=False,\n",
    "    eval_every=1,\n",
    "    tolerance=0.4,\n",
    ")\n",
    "\n",
    "train_acc = eval_dataset(model, tokenizer, train_dataset, 4)\n",
    "val_acc = eval_dataset(model, tokenizer, val_dataset, 4)\n",
    "other_acc = eval_dataset(model, tokenizer, other_dataset, 4)\n",
    "fail_acc = eval_dataset(model, tokenizer, fail_datset, 4)\n",
    "print(train_acc, val_acc, other_acc, fail_acc)"
   ]
  },
  {
   "cell_type": "code",
   "execution_count": 37,
   "metadata": {},
   "outputs": [],
   "source": [
    "# from peft import get_peft_model, LoraConfig\n",
    "\n",
    "# lora_rank = 64\n",
    "# lora_alpha = 8\n",
    "\n",
    "# lora_config = LoraConfig(\n",
    "#     r=lora_rank,\n",
    "#     lora_alpha=lora_alpha,\n",
    "#     target_modules=[\"q_proj\", \"v_proj\"],\n",
    "# )\n",
    "\n",
    "# model = get_peft_model(model, lora_config)"
   ]
  },
  {
   "cell_type": "code",
   "execution_count": 38,
   "metadata": {},
   "outputs": [
    {
     "ename": "",
     "evalue": "",
     "output_type": "error",
     "traceback": [
      "\u001b[1;31mThe Kernel crashed while executing code in the current cell or a previous cell. \n",
      "\u001b[1;31mPlease review the code in the cell(s) to identify a possible cause of the failure. \n",
      "\u001b[1;31mClick <a href='https://aka.ms/vscodeJupyterKernelCrash'>here</a> for more info. \n",
      "\u001b[1;31mView Jupyter <a href='command:jupyter.viewOutput'>log</a> for further details."
     ]
    }
   ],
   "source": [
    "from unlearn_order.dataset import load_dataset\n",
    "\n",
    "data_dir = Path(\"../data/random_bd\")\n",
    "\n",
    "splits = list(range(10))\n",
    "n_train = 1\n",
    "n_val = 1\n",
    "\n",
    "train_files = [f\"split_{splits[i]}.jsonl\" for i in range(n_train)]\n",
    "val_files = [f\"split_{splits[i]}.jsonl\" for i in range(n_train, n_train + n_val)]\n",
    "combined_files = train_files + val_files\n",
    "\n",
    "train_dataset = load_dataset(data_dir, train_files)\n",
    "val_dataset = load_dataset(data_dir, val_files)\n",
    "combined_dataset = load_dataset(data_dir, combined_files)"
   ]
  },
  {
   "cell_type": "code",
   "execution_count": null,
   "metadata": {},
   "outputs": [],
   "source": [
    "from unlearn_order.pipeline import run_pipeline\n",
    "\n",
    "batch_size = 32\n",
    "tolerance = 0.01\n",
    "lr = 3e-6\n",
    "max_epochs = 100\n",
    "\n",
    "run_pipeline(\n",
    "    model,\n",
    "    tokenizer,\n",
    "    [\n",
    "        (\"f\", \"combined\", combined_dataset),\n",
    "        (\"u\", \"unlearn\", combined_dataset),\n",
    "        (\"e\", \"eval_train\", train_dataset),\n",
    "        (\"e\", \"eval_val\", val_dataset)(\"f\", \"retrain_train\", train_dataset),\n",
    "        (\"e\", \"eval_train\", train_dataset),\n",
    "        (\"e\", \"eval_val\", val_dataset),\n",
    "    ],\n",
    "    batch_size=batch_size,\n",
    "    tolerance=tolerance,\n",
    "    lr=lr,\n",
    "    max_epochs=max_epochs,\n",
    ")"
   ]
  },
  {
   "cell_type": "code",
   "execution_count": null,
   "metadata": {},
   "outputs": [],
   "source": [
    "from unlearn_order.pipeline import run_pipeline\n",
    "\n",
    "batch_size = 32\n",
    "tolerance = 0.01\n",
    "lr = 3e-5\n",
    "max_steps = 1000\n",
    "\n",
    "run_pipeline(\n",
    "    model,\n",
    "    tokenizer,\n",
    "    [\n",
    "        (\"f\", \"train_train\", train_dataset),\n",
    "        (\"f\", \"val_train\", val_dataset),\n",
    "        (\"e\", \"eval_train\", train_dataset),\n",
    "        (\"e\", \"eval_val\", val_dataset)(\"u\", \"unlearn\", combined_dataset),\n",
    "        (\"e\", \"eval_train\", train_dataset),\n",
    "        (\"e\", \"eval_val\", val_dataset)(\"f\", \"retrain_train\", train_dataset),\n",
    "        (\"e\", \"eval_train\", train_dataset),\n",
    "        (\"e\", \"eval_val\", val_dataset),\n",
    "    ],\n",
    "    batch_size=batch_size,\n",
    "    tolerance=tolerance,\n",
    "    lr=lr,\n",
    "    max_epochs=100,\n",
    ")"
   ]
  },
  {
   "cell_type": "code",
   "execution_count": null,
   "metadata": {},
   "outputs": [],
   "source": [
    "from unlearn_order.pipeline import run_pipeline\n",
    "\n",
    "batch_size = 28\n",
    "tolerance = 0.05\n",
    "\n",
    "run_pipeline(\n",
    "    model,\n",
    "    tokenizer,\n",
    "    [\n",
    "        (\"f\", \"val_train\", val_dataset),\n",
    "        (\"f\", \"train_train\", train_dataset),\n",
    "        (\"e\", \"eval_train\", train_dataset),\n",
    "        (\"e\", \"eval_val\", val_dataset)(\"u\", \"unlearn\", combined_dataset),\n",
    "        (\"e\", \"eval_train\", train_dataset),\n",
    "        (\"e\", \"eval_val\", val_dataset)(\"f\", \"retrain_train\", train_dataset),\n",
    "        (\"e\", \"eval_train\", train_dataset),\n",
    "        (\"e\", \"eval_val\", val_dataset),\n",
    "    ],\n",
    "    batch_size=batch_size,\n",
    "    tolerance=tolerance,\n",
    "    lr=lr,\n",
    ")"
   ]
  },
  {
   "cell_type": "code",
   "execution_count": null,
   "metadata": {},
   "outputs": [],
   "source": []
  }
 ],
 "metadata": {
  "kernelspec": {
   "display_name": "venv",
   "language": "python",
   "name": "python3"
  },
  "language_info": {
   "codemirror_mode": {
    "name": "ipython",
    "version": 3
   },
   "file_extension": ".py",
   "mimetype": "text/x-python",
   "name": "python",
   "nbconvert_exporter": "python",
   "pygments_lexer": "ipython3",
   "version": "3.12.2"
  }
 },
 "nbformat": 4,
 "nbformat_minor": 2
}
