{
 "cells": [
  {
   "cell_type": "code",
   "execution_count": 1,
   "metadata": {},
   "outputs": [
    {
     "name": "stdout",
     "output_type": "stream",
     "text": [
      "Loaded environment variables from .env file.\n"
     ]
    }
   ],
   "source": [
    "%load_ext autoreload\n",
    "%autoreload 2\n",
    "\n",
    "import sys\n",
    "import os\n",
    "import dotenv\n",
    "from pathlib import Path\n",
    "\n",
    "env_file = \"../.env\"\n",
    "\n",
    "if os.path.exists(env_file):\n",
    "    dotenv.load_dotenv(env_file, verbose=True)\n",
    "    print(\"Loaded environment variables from .env file.\")\n",
    "\n",
    "cwd = os.getcwd()\n",
    "# for some reason appending to PATH you need it to be string\n",
    "sys.path.append(str(Path(cwd).parent / \"src\"))\n",
    "hf_access_token = os.getenv(\"HUGGINGFACE_API_KEY\")\n",
    "\n",
    "# from research_tools.gpu import get_gpus_available\n",
    "\n",
    "# os.environ[\"CUDA_VISIBLE_DEVICES\"] = \",\".join([str(i) for i in get_gpus_available()])\n",
    "os.environ[\"CUDA_VISIBLE_DEVICES\"] = \"1\"\n",
    "# get rid of linker warnings that show up for some reason\n",
    "os.environ[\"OTHER_LDFLAGS\"] = \"-w\""
   ]
  },
  {
   "cell_type": "code",
   "execution_count": 2,
   "metadata": {},
   "outputs": [
    {
     "data": {
      "application/vnd.jupyter.widget-view+json": {
       "model_id": "1c73c1243e6d4c959cb94d8944846ea8",
       "version_major": 2,
       "version_minor": 0
      },
      "text/plain": [
       "Loading checkpoint shards:   0%|          | 0/4 [00:00<?, ?it/s]"
      ]
     },
     "metadata": {},
     "output_type": "display_data"
    }
   ],
   "source": [
    "from transformers import AutoTokenizer, AutoModelForCausalLM\n",
    "from typing import List, Dict, Optional\n",
    "import torch\n",
    "\n",
    "device = torch.device(\"cuda\" if torch.cuda.is_available() else \"cpu\")\n",
    "assert device == torch.device(\"cuda\")\n",
    "\n",
    "model_id = \"LLM-LAT/zephyr7b-beta-rmu-lat-unlearn-wmdp-bio-cyber\"\n",
    "model_id = \"meta-llama/Meta-Llama-3-8B-Instruct\"\n",
    "model_id = \"google/gemma-2b\"\n",
    "model_id = \"HuggingFaceH4/zephyr-7b-beta\"\n",
    "model_id = \"meta-llama/Meta-Llama-3-8B\"\n",
    "# Load model directly\n",
    "from transformers import AutoTokenizer, AutoModelForCausalLM\n",
    "\n",
    "model = AutoModelForCausalLM.from_pretrained(\n",
    "    model_id, torch_dtype=torch.bfloat16, trust_remote_code=True, token=hf_access_token\n",
    ").to(device)\n",
    "tokenizer = AutoTokenizer.from_pretrained(model_id)\n",
    "tokenizer.pad_token_id = tokenizer.eos_token_id"
   ]
  },
  {
   "cell_type": "code",
   "execution_count": 3,
   "metadata": {},
   "outputs": [],
   "source": [
    "from unlearn_order.datasets.utils import DATASETS_DICT, Datasets\n",
    "\n",
    "\n",
    "dataset_config = DATASETS_DICT[Datasets.WMDP_MCQ_CORPUS]"
   ]
  },
  {
   "cell_type": "code",
   "execution_count": 4,
   "metadata": {},
   "outputs": [],
   "source": [
    "# ascent on corpus split, descent on wikitext\n",
    "# eval loss on regular split mcq val split, wikitext val split\n",
    "# also should eval on train split mcq val split, wikitext, mmlu cats\n",
    "# all val files should be mcq\n",
    "# all train should be corpus\n",
    "# unless u do rtt\n",
    "\n",
    "from datasets import load_dataset\n",
    "from unlearn_order.dataset import load_dataset as load_dataset_unlearn\n",
    "\n",
    "\n",
    "data_dir = Path(\"../data\")\n",
    "\n",
    "retain_dataset = load_dataset_unlearn(data_dir, dataset_config[\"retain_files\"])\n",
    "\n",
    "\n",
    "forget_train = load_dataset_unlearn(data_dir, dataset_config[\"unlearn_files\"])\n",
    "forget_val = load_dataset_unlearn(data_dir, dataset_config[\"val_files\"])\n",
    "\n",
    "retain_train = load_dataset(\"wikitext\", \"wikitext-2-raw-v1\")[\"validation\"]\n",
    "retain_val = load_dataset_unlearn(data_dir, dataset_config[\"val_retain_files\"])"
   ]
  },
  {
   "cell_type": "code",
   "execution_count": 5,
   "metadata": {},
   "outputs": [],
   "source": [
    "from unlearn_order.utils import (\n",
    "    create_prompt_letter_answer,\n",
    "    create_prompt,\n",
    "    create_prompt_question_answer,\n",
    "    create_prompt_answer_only,\n",
    ")\n",
    "\n",
    "completion_func = create_prompt_letter_answer"
   ]
  },
  {
   "cell_type": "code",
   "execution_count": 6,
   "metadata": {},
   "outputs": [
    {
     "data": {
      "application/vnd.jupyter.widget-view+json": {
       "model_id": "38dfdbc1162341948eac42d2b26b4dbe",
       "version_major": 2,
       "version_minor": 0
      },
      "text/plain": [
       "Filter:   0%|          | 0/2355 [00:00<?, ? examples/s]"
      ]
     },
     "metadata": {},
     "output_type": "display_data"
    },
    {
     "data": {
      "application/vnd.jupyter.widget-view+json": {
       "model_id": "909b5c85f3624ac18a6c41afedf534eb",
       "version_major": 2,
       "version_minor": 0
      },
      "text/plain": [
       "Map:   0%|          | 0/2355 [00:00<?, ? examples/s]"
      ]
     },
     "metadata": {},
     "output_type": "display_data"
    }
   ],
   "source": [
    "from datasets import Dataset\n",
    "from transformers import AutoTokenizer\n",
    "from functools import partial\n",
    "\n",
    "\n",
    "def map_corpus(data: Dict, tokenizer: AutoTokenizer, max_length: int):\n",
    "    text = data[\"text\"]\n",
    "    output = tokenizer(\n",
    "        text,\n",
    "        padding=\"max_length\",\n",
    "        max_length=max_length,\n",
    "        truncation=True,\n",
    "        return_tensors=\"pt\",\n",
    "    )\n",
    "    return {\n",
    "        \"input_ids\": output[\"input_ids\"].squeeze(),\n",
    "        \"attention_mask\": output[\"attention_mask\"].squeeze(),\n",
    "        \"labels\": output[\"input_ids\"].clone().squeeze(),\n",
    "    }\n",
    "\n",
    "\n",
    "def process_train_dataset(\n",
    "    dataset: Dataset,\n",
    "    tokenizer: AutoTokenizer,\n",
    "    max_length: int = 512,\n",
    "    min_length: int = 0,\n",
    "):\n",
    "    dataset = dataset.filter(lambda x: len(x[\"text\"]) > min_length)\n",
    "    dataset = dataset.map(\n",
    "        partial(map_corpus, tokenizer=tokenizer, max_length=max_length)\n",
    "    )\n",
    "\n",
    "    keep_cols = [\"input_ids\", \"attention_mask\", \"labels\"]\n",
    "    dataset = dataset.remove_columns(\n",
    "        [col for col in dataset.column_names if col not in keep_cols]\n",
    "    )\n",
    "    dataset.set_format(\"torch\")\n",
    "    return dataset\n",
    "\n",
    "\n",
    "max_length = 128\n",
    "forget_train = process_train_dataset(forget_train, tokenizer, max_length=max_length)\n",
    "retain_train = process_train_dataset(retain_train, tokenizer, max_length=max_length)"
   ]
  },
  {
   "cell_type": "code",
   "execution_count": 7,
   "metadata": {},
   "outputs": [],
   "source": [
    "from copy import deepcopy\n",
    "import torch.nn.functional as F\n",
    "\n",
    "\n",
    "def create_mcq(\n",
    "    record: Dict, tokenizer: AutoTokenizer, max_length: int, context: str = \"\"\n",
    "):\n",
    "    record[\"question\"] = context + record[\"question\"]\n",
    "    text = completion_func(record)\n",
    "    prompt = create_prompt(record)\n",
    "\n",
    "    completion = text[len(prompt) :]\n",
    "\n",
    "    record[\"prompt\"] = prompt\n",
    "    record[\"text\"] = text\n",
    "    record[\"completion\"] = completion\n",
    "\n",
    "    prompt_ids = tokenizer(prompt, return_tensors=\"pt\").input_ids[0]\n",
    "    completion_ids = tokenizer(\n",
    "        completion, return_tensors=\"pt\", add_special_tokens=False\n",
    "    ).input_ids[0]\n",
    "\n",
    "    input_ids = torch.cat([prompt_ids, completion_ids])\n",
    "    labels = input_ids.clone()\n",
    "\n",
    "    attention_mask = torch.ones_like(input_ids)\n",
    "    prompt_mask = torch.zeros_like(input_ids)\n",
    "    prompt_mask[: len(prompt_ids)] = 1\n",
    "\n",
    "    completion_mask = torch.zeros_like(input_ids)\n",
    "    completion_mask[len(prompt_ids) :] = 1\n",
    "\n",
    "    # pad to max length on left\n",
    "    seq_len = input_ids.size(0)\n",
    "    pad_len = max_length - seq_len\n",
    "    padding = (0, pad_len)\n",
    "\n",
    "    input_ids = F.pad(input_ids, padding, value=0)\n",
    "    labels = F.pad(labels, padding, value=-100)\n",
    "    attention_mask = F.pad(attention_mask, padding, value=0)\n",
    "    prompt_mask = F.pad(prompt_mask, padding, value=0)\n",
    "    completion_mask = F.pad(completion_mask, padding, value=0)\n",
    "\n",
    "    record[\"input_ids\"] = input_ids\n",
    "    record[\"labels\"] = labels\n",
    "    record[\"attention_mask\"] = attention_mask\n",
    "    record[\"completion_byte_len\"] = len(completion.encode(\"utf-8\"))\n",
    "    record[\"prompt_mask\"] = prompt_mask\n",
    "    record[\"completion_mask\"] = completion_mask\n",
    "    record[\"length\"] = seq_len\n",
    "\n",
    "    return record\n",
    "\n",
    "\n",
    "def expand_mcq_records(records: List[Dict], **kwargs):\n",
    "    new_records = []\n",
    "    for rec in records:\n",
    "        n_choices = len(rec[\"choices\"])\n",
    "        for i in range(n_choices):\n",
    "            new_rec = deepcopy(rec)\n",
    "            actual_answer = rec[\"answer\"]\n",
    "            new_rec[\"answer\"] = i\n",
    "            new_rec = create_mcq(new_rec, **kwargs)\n",
    "            new_rec[\"answer\"] = actual_answer\n",
    "            new_rec[\"selected_answer\"] = i\n",
    "            new_records.append(new_rec)\n",
    "\n",
    "    return new_records"
   ]
  },
  {
   "cell_type": "code",
   "execution_count": 8,
   "metadata": {},
   "outputs": [],
   "source": [
    "def expand_corpus_records(records: List[Dict]):\n",
    "    for rec in records:\n",
    "        rec[\"input_ids\"] = torch.tensor(rec[\"input_ids\"])\n",
    "        rec[\"labels\"] = torch.tensor(rec[\"labels\"])\n",
    "        rec[\"attention_mask\"] = torch.tensor(rec[\"attention_mask\"])\n",
    "        rec[\"length\"] = rec[\"input_ids\"].size(0)\n",
    "    return records"
   ]
  },
  {
   "cell_type": "code",
   "execution_count": 9,
   "metadata": {},
   "outputs": [],
   "source": [
    "max_length = 1024\n",
    "\n",
    "forget_train_records = forget_train.to_list()\n",
    "retain_train_records = retain_train.to_list()\n",
    "forget_val_records = forget_val.to_list()\n",
    "retain_val_records = retain_val.to_list()\n",
    "\n",
    "forget_train_records = expand_corpus_records(forget_train_records)\n",
    "retain_train_records = expand_corpus_records(retain_train_records)\n",
    "retain_val_records = expand_mcq_records(\n",
    "    retain_val_records, tokenizer=tokenizer, max_length=max_length\n",
    ")\n",
    "forget_val_records = expand_mcq_records(\n",
    "    forget_val_records, tokenizer=tokenizer, max_length=max_length\n",
    ")"
   ]
  },
  {
   "cell_type": "code",
   "execution_count": 10,
   "metadata": {},
   "outputs": [],
   "source": [
    "from torch.utils.data import Dataset, DataLoader\n",
    "\n",
    "from tqdm import tqdm\n",
    "\n",
    "\n",
    "def fix_seq_len(batch: Dict, keys: List[str]):\n",
    "    max_seq_len = max(batch[\"length\"])\n",
    "    for key in keys:\n",
    "        batch[key] = batch[key][:, :max_seq_len]\n",
    "    return batch\n",
    "\n",
    "\n",
    "def evaluate(\n",
    "    model: AutoModelForCausalLM,\n",
    "    records: List[Dict],\n",
    "    batch_size: int = 8,\n",
    "    n_choices: int = 4,\n",
    "    normalize_loss: bool = False,\n",
    "):\n",
    "    # round up to nearest multiple of n_choices\n",
    "    batch_size = (batch_size + n_choices - 1) // n_choices * n_choices\n",
    "    original_fields = [\"input_ids\", \"attention_mask\", \"labels\"]\n",
    "\n",
    "    aux_fields = [\"answer\", \"completion_byte_len\", \"completion_mask\", \"length\"]\n",
    "    fields = original_fields + aux_fields\n",
    "    dataset = [{k: v for k, v in rec.items() if k in fields} for rec in records]\n",
    "\n",
    "    dataloader = DataLoader(dataset, batch_size=batch_size, shuffle=False)\n",
    "\n",
    "    model.eval()\n",
    "    correct = 0\n",
    "    total = 0\n",
    "\n",
    "    with torch.no_grad():\n",
    "        for batch in tqdm(dataloader):\n",
    "            batch = fix_seq_len(batch, original_fields + [\"completion_mask\"])\n",
    "            input_ids = batch[\"input_ids\"].to(device)\n",
    "            labels = batch[\"labels\"].to(device)\n",
    "            completion_mask = batch[\"completion_mask\"].to(device)\n",
    "            attention_mask = batch[\"attention_mask\"].to(device).bool()\n",
    "            completion_byte_len = batch[\"completion_byte_len\"].to(device)\n",
    "\n",
    "            answers = batch[\"answer\"].to(device)\n",
    "\n",
    "            outputs = model(input_ids=input_ids, attention_mask=attention_mask)\n",
    "\n",
    "            logits = outputs.logits\n",
    "            labels[~completion_mask.bool()] = -100\n",
    "            labels[~attention_mask.bool()] = -100\n",
    "\n",
    "            shifted_logits = logits[:, :-1, :].contiguous()\n",
    "            shifted_labels = labels[:, 1:].contiguous()\n",
    "\n",
    "            loss = F.cross_entropy(\n",
    "                shifted_logits.view(-1, shifted_logits.size(-1)),\n",
    "                shifted_labels.view(-1),\n",
    "                reduction=\"none\",\n",
    "            )\n",
    "            loss = loss.view(shifted_labels.size(0), shifted_labels.size(1))\n",
    "            loss_by_sample = loss.sum(dim=1)\n",
    "\n",
    "            if normalize_loss:\n",
    "                loss_by_sample = loss_by_sample / completion_byte_len\n",
    "            loss_by_sample = loss_by_sample.view(-1, n_choices)\n",
    "\n",
    "            answers = answers[::n_choices]\n",
    "\n",
    "            pred = loss_by_sample.argmin(dim=1)\n",
    "\n",
    "            correct += (pred == answers).sum().item()\n",
    "            total += len(answers)\n",
    "\n",
    "    accuracy = correct / total\n",
    "    return accuracy"
   ]
  },
  {
   "cell_type": "code",
   "execution_count": 11,
   "metadata": {},
   "outputs": [],
   "source": [
    "from torch.utils.data import DataLoader\n",
    "from transformers import Trainer, TrainingArguments\n",
    "from unlearn_order.utils import log_1_minus_p_loss, my_loss\n",
    "from unlearn_order.eval import eval_dataset as my_eval_dataset\n",
    "\n",
    "\n",
    "def train_step(\n",
    "    model: AutoModelForCausalLM,\n",
    "    forget_batch: Dict,\n",
    "    retain_batch: Dict,\n",
    "    forget_alpha: float = 0.1,\n",
    "):\n",
    "    forget_batch = fix_seq_len(forget_batch, [\"input_ids\", \"attention_mask\", \"labels\"])\n",
    "    retain_batch = fix_seq_len(retain_batch, [\"input_ids\", \"attention_mask\", \"labels\"])\n",
    "\n",
    "    forget_input_ids = forget_batch[\"input_ids\"].to(device)\n",
    "    forget_attention_mask = forget_batch[\"attention_mask\"].to(device)\n",
    "    forget_labels = forget_batch[\"labels\"].to(device)\n",
    "\n",
    "    retain_input_ids = retain_batch[\"input_ids\"].to(device)\n",
    "    retain_attention_mask = retain_batch[\"attention_mask\"].to(device)\n",
    "    retain_labels = retain_batch[\"labels\"].to(device)\n",
    "\n",
    "    # forget_loss = my_loss(\n",
    "    #     model,\n",
    "    #     is_away=True,\n",
    "    #     input_ids=forget_input_ids,\n",
    "    #     attention_mask=forget_attention_mask,\n",
    "    #     labels=forget_labels,\n",
    "    # )\n",
    "\n",
    "    # forget_loss = forget_loss * forget_alpha\n",
    "    # forget_loss.backward()\n",
    "\n",
    "    retain_loss = my_loss(\n",
    "        model,\n",
    "        is_away=False,\n",
    "        input_ids=retain_input_ids,\n",
    "        attention_mask=retain_attention_mask,\n",
    "        labels=retain_labels,\n",
    "    )\n",
    "\n",
    "    retain_loss.backward()\n",
    "\n",
    "    # loss = forget_loss.detach() + retain_loss.detach()\n",
    "    loss = retain_loss.detach()\n",
    "    loss = loss.detach().item()\n",
    "    # forget_loss = forget_loss.detach().item()\n",
    "    forget_loss = 0\n",
    "    retain_loss = retain_loss.detach().item()\n",
    "\n",
    "    loss_dict = {\n",
    "        \"loss\": loss,\n",
    "        \"forget_loss\": forget_loss,\n",
    "        \"retain_loss\": retain_loss,\n",
    "    }\n",
    "\n",
    "    return loss_dict"
   ]
  },
  {
   "cell_type": "code",
   "execution_count": 12,
   "metadata": {},
   "outputs": [],
   "source": [
    "def train_epoch(\n",
    "    model: AutoModelForCausalLM,\n",
    "    epoch: int,\n",
    "    forget_train_records: List[Dict],\n",
    "    retain_train_records: List[Dict],\n",
    "    batch_size: int = 4,\n",
    "    forget_alpha: float = 0.1,\n",
    "    lr: float = 3e-5,\n",
    "    log_steps: int = 50,\n",
    "    grad_accum_steps: int = 1,\n",
    "):\n",
    "    model.train()\n",
    "    forget_dataloader = DataLoader(\n",
    "        forget_train_records, batch_size=batch_size, shuffle=True\n",
    "    )\n",
    "    retain_dataloader = DataLoader(\n",
    "        retain_train_records, batch_size=batch_size, shuffle=True\n",
    "    )\n",
    "    optimizer = torch.optim.Adam(model.parameters(), lr=lr)\n",
    "    loss_traj = []\n",
    "    for step, (forget_batch, retain_batch) in tqdm(\n",
    "        enumerate(zip(forget_dataloader, retain_dataloader))\n",
    "    ):\n",
    "        loss_dict = train_step(model, forget_batch, retain_batch, forget_alpha)\n",
    "\n",
    "        if (step + 1) % grad_accum_steps == 0:\n",
    "            optimizer.step()\n",
    "            optimizer.zero_grad()\n",
    "\n",
    "        loss_traj.append(loss_dict)\n",
    "        if (step + 1) % log_steps == 0:\n",
    "            print(\n",
    "                f\"Epoch {epoch}, Step {step}, Loss {loss_dict['loss']}, Forget Loss {loss_dict['forget_loss']}, Retain Loss {loss_dict['retain_loss']}\"\n",
    "            )\n",
    "\n",
    "    return loss_traj\n",
    "\n",
    "\n",
    "def train(\n",
    "    model: AutoModelForCausalLM,\n",
    "    n_epochs: int,\n",
    "    forget_train_records: List[Dict],\n",
    "    retain_train_records: List[Dict],\n",
    "    forget_val_records: List[Dict],\n",
    "    retain_val_records: List[Dict],\n",
    "    batch_size: int = 4,\n",
    "    forget_alpha: float = 0.1,\n",
    "    lr: float = 3e-5,\n",
    "    log_steps: int = 50,\n",
    "    eval_at_start: bool = True,\n",
    "    grad_accum_steps: int = 1,\n",
    "):\n",
    "    if eval_at_start:\n",
    "        retain_acc = evaluate(\n",
    "            model, retain_val_records, batch_size=8, normalize_loss=False\n",
    "        )\n",
    "        forget_acc = evaluate(\n",
    "            model, forget_val_records, batch_size=8, normalize_loss=False\n",
    "        )\n",
    "\n",
    "        print(f\"Initial Retain Accuracy: {retain_acc}\")\n",
    "        print(f\"Initial Forget Accuracy: {forget_acc}\")\n",
    "\n",
    "    for epoch in range(n_epochs):\n",
    "        train_epoch(\n",
    "            model,\n",
    "            epoch,\n",
    "            forget_train_records,\n",
    "            retain_train_records,\n",
    "            batch_size,\n",
    "            forget_alpha,\n",
    "            lr=lr,\n",
    "            log_steps=log_steps,\n",
    "            grad_accum_steps=grad_accum_steps,\n",
    "        )\n",
    "        retain_acc = evaluate(\n",
    "            model, retain_val_records, batch_size=8, normalize_loss=False\n",
    "        )\n",
    "        forget_acc = evaluate(\n",
    "            model, forget_val_records, batch_size=8, normalize_loss=False\n",
    "        )\n",
    "\n",
    "        print(f\"Epoch: {epoch}, Retain Accuracy: {retain_acc}\")\n",
    "        print(f\"Epoch: {epoch}, Forget Accuracy: {forget_acc}\")\n",
    "    return model"
   ]
  },
  {
   "cell_type": "code",
   "execution_count": null,
   "metadata": {},
   "outputs": [
    {
     "name": "stderr",
     "output_type": "stream",
     "text": [
      "51it [00:08,  6.34it/s]"
     ]
    },
    {
     "name": "stdout",
     "output_type": "stream",
     "text": [
      "Epoch 0, Step 49, Loss 2.4056313037872314, Forget Loss 0, Retain Loss 2.4056313037872314\n"
     ]
    },
    {
     "name": "stderr",
     "output_type": "stream",
     "text": [
      "101it [00:16,  6.74it/s]"
     ]
    },
    {
     "name": "stdout",
     "output_type": "stream",
     "text": [
      "Epoch 0, Step 99, Loss 2.4968717098236084, Forget Loss 0, Retain Loss 2.4968717098236084\n"
     ]
    },
    {
     "name": "stderr",
     "output_type": "stream",
     "text": [
      "151it [00:24,  6.85it/s]"
     ]
    },
    {
     "name": "stdout",
     "output_type": "stream",
     "text": [
      "Epoch 0, Step 149, Loss 2.1581199169158936, Forget Loss 0, Retain Loss 2.1581199169158936\n"
     ]
    },
    {
     "name": "stderr",
     "output_type": "stream",
     "text": [
      "201it [00:32,  5.69it/s]"
     ]
    },
    {
     "name": "stdout",
     "output_type": "stream",
     "text": [
      "Epoch 0, Step 199, Loss 1.9347772598266602, Forget Loss 0, Retain Loss 1.9347772598266602\n"
     ]
    },
    {
     "name": "stderr",
     "output_type": "stream",
     "text": [
      "251it [00:40,  6.31it/s]"
     ]
    },
    {
     "name": "stdout",
     "output_type": "stream",
     "text": [
      "Epoch 0, Step 249, Loss 2.0560457706451416, Forget Loss 0, Retain Loss 2.0560457706451416\n"
     ]
    },
    {
     "name": "stderr",
     "output_type": "stream",
     "text": [
      "301it [00:48,  6.78it/s]"
     ]
    },
    {
     "name": "stdout",
     "output_type": "stream",
     "text": [
      "Epoch 0, Step 299, Loss 1.6730653047561646, Forget Loss 0, Retain Loss 1.6730653047561646\n"
     ]
    },
    {
     "name": "stderr",
     "output_type": "stream",
     "text": [
      "351it [00:56,  6.91it/s]"
     ]
    },
    {
     "name": "stdout",
     "output_type": "stream",
     "text": [
      "Epoch 0, Step 349, Loss 1.447522759437561, Forget Loss 0, Retain Loss 1.447522759437561\n"
     ]
    },
    {
     "name": "stderr",
     "output_type": "stream",
     "text": [
      "401it [01:04,  5.55it/s]"
     ]
    },
    {
     "name": "stdout",
     "output_type": "stream",
     "text": [
      "Epoch 0, Step 399, Loss 1.8087211847305298, Forget Loss 0, Retain Loss 1.8087211847305298\n"
     ]
    },
    {
     "name": "stderr",
     "output_type": "stream",
     "text": [
      "451it [01:12,  6.35it/s]"
     ]
    },
    {
     "name": "stdout",
     "output_type": "stream",
     "text": [
      "Epoch 0, Step 449, Loss 1.664201259613037, Forget Loss 0, Retain Loss 1.664201259613037\n"
     ]
    },
    {
     "name": "stderr",
     "output_type": "stream",
     "text": [
      "500it [01:20,  6.22it/s]\n"
     ]
    },
    {
     "name": "stdout",
     "output_type": "stream",
     "text": [
      "Epoch 0, Step 499, Loss 2.21142315864563, Forget Loss 0, Retain Loss 2.21142315864563\n"
     ]
    },
    {
     "name": "stderr",
     "output_type": "stream",
     "text": [
      "  0%|          | 0/393 [00:00<?, ?it/s]Starting from v4.46, the `logits` model output will have the same type as the model (except at train time, where it will always be FP32)\n",
      "100%|██████████| 393/393 [00:41<00:00,  9.36it/s]\n",
      "100%|██████████| 393/393 [00:24<00:00, 16.08it/s]\n"
     ]
    },
    {
     "name": "stdout",
     "output_type": "stream",
     "text": [
      "Epoch: 0, Retain Accuracy: 0.5910828025477707\n",
      "Epoch: 0, Forget Accuracy: 0.5528662420382165\n"
     ]
    },
    {
     "name": "stderr",
     "output_type": "stream",
     "text": [
      "51it [00:08,  6.30it/s]"
     ]
    },
    {
     "name": "stdout",
     "output_type": "stream",
     "text": [
      "Epoch 1, Step 49, Loss 1.0882759094238281, Forget Loss 0, Retain Loss 1.0882759094238281\n"
     ]
    },
    {
     "name": "stderr",
     "output_type": "stream",
     "text": [
      "95it [00:15,  6.96it/s]"
     ]
    }
   ],
   "source": [
    "model = train(\n",
    "    model,\n",
    "    2,\n",
    "    forget_train_records,\n",
    "    retain_train_records[: 500 * 4],\n",
    "    forget_val_records,\n",
    "    retain_val_records,\n",
    "    4,\n",
    "    forget_alpha=0.0,\n",
    "    eval_at_start=False,\n",
    "    log_steps=50,\n",
    "    lr=3e-5,\n",
    "    grad_accum_steps=8,\n",
    ")"
   ]
  }
 ],
 "metadata": {
  "kernelspec": {
   "display_name": "venv",
   "language": "python",
   "name": "python3"
  },
  "language_info": {
   "codemirror_mode": {
    "name": "ipython",
    "version": 3
   },
   "file_extension": ".py",
   "mimetype": "text/x-python",
   "name": "python",
   "nbconvert_exporter": "python",
   "pygments_lexer": "ipython3",
   "version": "3.12.2"
  }
 },
 "nbformat": 4,
 "nbformat_minor": 2
}
