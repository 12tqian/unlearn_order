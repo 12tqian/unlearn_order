{
 "cells": [
  {
   "cell_type": "code",
   "execution_count": null,
   "metadata": {},
   "outputs": [],
   "source": [
    "%load_ext autoreload\n",
    "%autoreload 2\n",
    "\n",
    "import os\n",
    "from dotenv import load_dotenv\n",
    "from pathlib import Path\n",
    "from research_tools.gpu import get_gpus_available\n",
    "\n",
    "load_dotenv()\n",
    "\n",
    "\n",
    "hf_access_token = os.getenv(\"HUGGINGFACE_API_KEY\")\n",
    "\n",
    "n_gpus = 1\n",
    "\n",
    "gpus_available = get_gpus_available()\n",
    "n_gpus = min(n_gpus, len(gpus_available))\n",
    "gpus = gpus_available[:n_gpus]\n",
    "\n",
    "assert n_gpus > 0, \"No GPUs available\"\n",
    "\n",
    "os.environ[\"CUDA_VISIBLE_DEVICES\"] = \",\".join([str(i) for i in gpus])"
   ]
  },
  {
   "cell_type": "code",
   "execution_count": 2,
   "metadata": {},
   "outputs": [
    {
     "data": {
      "application/vnd.jupyter.widget-view+json": {
       "model_id": "a22caa9189cc4a3fb1ce501ef665a50c",
       "version_major": 2,
       "version_minor": 0
      },
      "text/plain": [
       "Loading checkpoint shards:   0%|          | 0/8 [00:00<?, ?it/s]"
      ]
     },
     "metadata": {},
     "output_type": "display_data"
    }
   ],
   "source": [
    "from transformers import AutoTokenizer, AutoModelForCausalLM\n",
    "from typing import List, Dict, Optional\n",
    "import torch\n",
    "from research_tools.utils import set_seed\n",
    "\n",
    "set_seed(42)\n",
    "\n",
    "device = torch.device(\"cuda\" if torch.cuda.is_available() else \"cpu\")\n",
    "assert device == torch.device(\"cuda\")\n",
    "\n",
    "model_id = \"HuggingFaceH4/zephyr-7b-beta\"\n",
    "\n",
    "model = AutoModelForCausalLM.from_pretrained(\n",
    "    model_id, torch_dtype=torch.bfloat16, trust_remote_code=True, token=hf_access_token\n",
    ").to(device)\n",
    "tokenizer = AutoTokenizer.from_pretrained(model_id)\n",
    "tokenizer.pad_token_id = tokenizer.eos_token_id"
   ]
  },
  {
   "cell_type": "code",
   "execution_count": 3,
   "metadata": {},
   "outputs": [],
   "source": [
    "from datasets import load_dataset\n",
    "from relearn.datasets.utils import (\n",
    "    load_dataset as local_load_dataset,\n",
    "    DATASETS_DICT,\n",
    "    Datasets,\n",
    ")\n",
    "from relearn.datasets.corpus import process as process_corpus\n",
    "from relearn.datasets.mcq import process as process_mcq\n",
    "import pickle\n",
    "\n",
    "data_dir = Path(\"../data\")\n",
    "cache_path = data_dir / \"full.pickle\"\n",
    "\n",
    "USE_CACHE = True\n",
    "\n",
    "if USE_CACHE:\n",
    "    assert cache_path.exists(), \"Cache file does not exist\"\n",
    "    with open(cache_path, \"rb\") as f:\n",
    "        data = pickle.load(f)\n",
    "else:\n",
    "    data = {}\n",
    "    # iterate over all enums\n",
    "    for name in Datasets:\n",
    "\n",
    "        dataset_config = DATASETS_DICT[name]\n",
    "\n",
    "        def get_dataset(train_files: List[str], val_files: List[str], max_length: int):\n",
    "            train = local_load_dataset(data_dir, train_files)\n",
    "            val = local_load_dataset(data_dir, val_files)\n",
    "            train_records = process_corpus(train, tokenizer, max_length)\n",
    "            val_records = process_mcq(val, tokenizer, max_length)\n",
    "            mcq_records = process_mcq(val, tokenizer, max_length, expand_choices=False)\n",
    "            return {\n",
    "                \"corpus\": train_records,\n",
    "                \"mcq\": mcq_records,\n",
    "                \"val\": val_records,\n",
    "            }\n",
    "\n",
    "        max_length = 512\n",
    "\n",
    "        unlearn_files = dataset_config[\"unlearn_files\"]\n",
    "        val_unlearn_files = dataset_config[\"val_unlearn_files\"]\n",
    "\n",
    "        print(f\"Processing {name}\")\n",
    "\n",
    "        data[name] = get_dataset(unlearn_files, val_unlearn_files, max_length)\n",
    "\n",
    "        if \"retain\" not in data:\n",
    "            retain_files = dataset_config[\"retain_files\"]\n",
    "            val_retain_files = dataset_config[\"val_retain_files\"]\n",
    "            data[\"retain\"] = get_dataset(retain_files, val_retain_files, max_length)\n",
    "\n",
    "    with open(cache_path, \"wb\") as f:\n",
    "        pickle.dump(data, f)"
   ]
  },
  {
   "cell_type": "code",
   "execution_count": 4,
   "metadata": {},
   "outputs": [],
   "source": [
    "import torch\n",
    "\n",
    "\n",
    "def group_shuffle(data: List, group_size: int = 1, perm: Optional[torch.Tensor] = None):\n",
    "    if perm is None:\n",
    "        n = len(data) // group_size\n",
    "        perm = torch.randperm(n)\n",
    "\n",
    "    res = []\n",
    "    for i in perm:\n",
    "        res += data[i * group_size : (i + 1) * group_size]\n",
    "    return res\n",
    "\n",
    "\n",
    "def create_k_folds(data: List, k: int, group_size: int = 1):\n",
    "    n = len(data) // group_size\n",
    "    fold_size = n // k\n",
    "    folds = [fold_size] * k\n",
    "    for i in range(n % k):\n",
    "        folds[i] += 1\n",
    "\n",
    "    assert sum(folds) == n\n",
    "\n",
    "    res = []\n",
    "    start = 0\n",
    "\n",
    "    for fold_size in folds:\n",
    "        start_idx = start * group_size\n",
    "        end_idx = (start + fold_size) * group_size\n",
    "\n",
    "        res.append(data[start_idx:end_idx])\n",
    "\n",
    "        start += fold_size\n",
    "\n",
    "    return res\n",
    "\n",
    "\n",
    "def get_folds_shuffled(records: Dict[str, List], k: int):\n",
    "\n",
    "    perm = torch.randperm(len(records[\"mcq\"]))\n",
    "\n",
    "    store = [\n",
    "        {\"corpus\": c, \"mcq\": m, \"val\": v}\n",
    "        for c, m, v in zip(\n",
    "            create_k_folds(group_shuffle(records[\"corpus\"], 3, perm=perm), k, 3),\n",
    "            create_k_folds(group_shuffle(records[\"mcq\"], perm=perm), k),\n",
    "            create_k_folds(\n",
    "                group_shuffle(\n",
    "                    records[\"val\"],\n",
    "                    4,\n",
    "                    perm=perm,\n",
    "                ),\n",
    "                k,\n",
    "                4,\n",
    "            ),\n",
    "        )\n",
    "    ]\n",
    "\n",
    "    return store\n",
    "\n",
    "\n",
    "records = data[Datasets.WMDP]\n",
    "k = 3\n",
    "\n",
    "store = get_folds_shuffled(records, k)"
   ]
  },
  {
   "cell_type": "code",
   "execution_count": 5,
   "metadata": {},
   "outputs": [
    {
     "name": "stderr",
     "output_type": "stream",
     "text": [
      "\u001b[34m\u001b[1mwandb\u001b[0m: Using wandb-core as the SDK backend.  Please refer to https://wandb.me/wandb-core for more information.\n",
      "\u001b[34m\u001b[1mwandb\u001b[0m: Currently logged in as: \u001b[33m12tqian\u001b[0m. Use \u001b[1m`wandb login --relogin`\u001b[0m to force relogin\n"
     ]
    },
    {
     "data": {
      "text/html": [
       "Tracking run with wandb version 0.19.1"
      ],
      "text/plain": [
       "<IPython.core.display.HTML object>"
      ]
     },
     "metadata": {},
     "output_type": "display_data"
    },
    {
     "data": {
      "text/html": [
       "Run data is saved locally in <code>/mnt/align4_drive/tcqian/unlearn_order/notebooks/wandb/run-20250214_170938-e1dqoan3</code>"
      ],
      "text/plain": [
       "<IPython.core.display.HTML object>"
      ]
     },
     "metadata": {},
     "output_type": "display_data"
    },
    {
     "data": {
      "text/html": [
       "Syncing run <strong><a href='https://wandb.ai/12tqian/relearn/runs/e1dqoan3' target=\"_blank\">dedicated-quiver-335</a></strong> to <a href='https://wandb.ai/12tqian/relearn' target=\"_blank\">Weights & Biases</a> (<a href='https://wandb.me/developer-guide' target=\"_blank\">docs</a>)<br>"
      ],
      "text/plain": [
       "<IPython.core.display.HTML object>"
      ]
     },
     "metadata": {},
     "output_type": "display_data"
    },
    {
     "data": {
      "text/html": [
       " View project at <a href='https://wandb.ai/12tqian/relearn' target=\"_blank\">https://wandb.ai/12tqian/relearn</a>"
      ],
      "text/plain": [
       "<IPython.core.display.HTML object>"
      ]
     },
     "metadata": {},
     "output_type": "display_data"
    },
    {
     "data": {
      "text/html": [
       " View run at <a href='https://wandb.ai/12tqian/relearn/runs/e1dqoan3' target=\"_blank\">https://wandb.ai/12tqian/relearn/runs/e1dqoan3</a>"
      ],
      "text/plain": [
       "<IPython.core.display.HTML object>"
      ]
     },
     "metadata": {},
     "output_type": "display_data"
    },
    {
     "name": "stdout",
     "output_type": "stream",
     "text": [
      "Unlearning fold A\n"
     ]
    },
    {
     "name": "stderr",
     "output_type": "stream",
     "text": [
      "100%|██████████████████████████████████████████████████████████████████████████████████████████████████████████████████████████████████████████████████████████████████████████████████████████████████████| 99/99 [00:07<00:00, 13.79it/s]\n",
      "100%|██████████████████████████████████████████████████████████████████████████████████████████████████████████████████████████████████████████████████████████████████████████████████████████████████████| 98/98 [00:06<00:00, 15.01it/s]\n",
      "100%|██████████████████████████████████████████████████████████████████████████████████████████████████████████████████████████████████████████████████████████████████████████████████████████████████████| 98/98 [00:05<00:00, 16.77it/s]\n",
      "100%|██████████████████████████████████████████████████████████████████████████████████████████████████████████████████████████████████████████████████████████████████████████████████████████████████████| 98/98 [00:06<00:00, 15.52it/s]\n",
      "100%|████████████████████████████████████████████████████████████████████████████████████████████████████████████████████████████████████████████████████████████████████████████████████████████████████| 393/393 [00:42<00:00,  9.34it/s]\n"
     ]
    },
    {
     "name": "stdout",
     "output_type": "stream",
     "text": [
      "{'epoch': -1, 'A/acc': 0.5228426395939086, 'B/acc': 0.49489795918367346, 'C/acc': 0.576530612244898, 'D/acc': 0.5969387755102041, 'retain/acc': 0.5923566878980892}\n"
     ]
    },
    {
     "name": "stderr",
     "output_type": "stream",
     "text": [
      "  0%|                                                                                                                                                                                                              | 0/147 [00:00<?, ?it/s]/mnt/align4_drive/tcqian/unlearn_order/src/relearn/unlearn/rmu/unlearn.py:242: UserWarning: Using a target size (torch.Size([1, 1, 4096])) that is different to the input size (torch.Size([4, 512, 4096])). This will likely lead to incorrect results due to broadcasting. Please ensure they have the same size.\n",
      "  forget_loss = torch.nn.functional.mse_loss(\n",
      "100%|██████████████████████████████████████████████████████████████████████████████| 147/147 [02:43<00:00,  1.11s/it, A/forget_loss=0.0354, B/retain_loss=7.49e-5, C/retain_loss=7.2e-5, D/retain_loss=7.77e-5, retain/retain_loss=2.37e-6]\n",
      "100%|██████████████████████████████████████████████████████████████████████████████████████████████████████████████████████████████████████████████████████████████████████████████████████████████████████| 99/99 [00:06<00:00, 14.60it/s]\n",
      "100%|██████████████████████████████████████████████████████████████████████████████████████████████████████████████████████████████████████████████████████████████████████████████████████████████████████| 98/98 [00:07<00:00, 13.46it/s]\n",
      "100%|██████████████████████████████████████████████████████████████████████████████████████████████████████████████████████████████████████████████████████████████████████████████████████████████████████| 98/98 [00:06<00:00, 14.87it/s]\n",
      "100%|██████████████████████████████████████████████████████████████████████████████████████████████████████████████████████████████████████████████████████████████████████████████████████████████████████| 98/98 [00:06<00:00, 14.28it/s]\n",
      "100%|████████████████████████████████████████████████████████████████████████████████████████████████████████████████████████████████████████████████████████████████████████████████████████████████████| 393/393 [00:42<00:00,  9.31it/s]\n"
     ]
    },
    {
     "name": "stdout",
     "output_type": "stream",
     "text": [
      "{'epoch': 0, 'A/acc': 0.5431472081218274, 'B/acc': 0.49489795918367346, 'C/acc': 0.576530612244898, 'D/acc': 0.6173469387755102, 'retain/acc': 0.5923566878980892}\n"
     ]
    },
    {
     "name": "stderr",
     "output_type": "stream",
     "text": [
      "100%|██████████████████████████████████████████████████████████████████████████| 147/147 [02:43<00:00,  1.11s/it, A/forget_loss=0.0442, B/retain_loss=0.000154, C/retain_loss=0.000126, D/retain_loss=0.000101, retain/retain_loss=2.01e-5]\n",
      "100%|██████████████████████████████████████████████████████████████████████████████████████████████████████████████████████████████████████████████████████████████████████████████████████████████████████| 99/99 [00:06<00:00, 14.45it/s]\n",
      "100%|██████████████████████████████████████████████████████████████████████████████████████████████████████████████████████████████████████████████████████████████████████████████████████████████████████| 98/98 [00:06<00:00, 14.47it/s]\n",
      "100%|██████████████████████████████████████████████████████████████████████████████████████████████████████████████████████████████████████████████████████████████████████████████████████████████████████| 98/98 [00:05<00:00, 16.42it/s]\n",
      "100%|██████████████████████████████████████████████████████████████████████████████████████████████████████████████████████████████████████████████████████████████████████████████████████████████████████| 98/98 [00:06<00:00, 15.23it/s]\n",
      "100%|████████████████████████████████████████████████████████████████████████████████████████████████████████████████████████████████████████████████████████████████████████████████████████████████████| 393/393 [00:42<00:00,  9.30it/s]\n"
     ]
    },
    {
     "name": "stdout",
     "output_type": "stream",
     "text": [
      "{'epoch': 1, 'A/acc': 0.47715736040609136, 'B/acc': 0.5, 'C/acc': 0.5357142857142857, 'D/acc': 0.6020408163265306, 'retain/acc': 0.5834394904458599}\n",
      "Unlearning fold B\n"
     ]
    },
    {
     "name": "stderr",
     "output_type": "stream",
     "text": [
      "100%|█████████████████████████████████████████████████████████████████████████████| 147/147 [02:25<00:00,  1.01it/s, A/forget_loss=0.0151, B/forget_loss=0.0175, C/retain_loss=0.000114, D/retain_loss=6.96e-5, retain/retain_loss=9.12e-6]\n",
      "100%|██████████████████████████████████████████████████████████████████████████████████████████████████████████████████████████████████████████████████████████████████████████████████████████████████████| 99/99 [00:06<00:00, 14.61it/s]\n",
      "100%|██████████████████████████████████████████████████████████████████████████████████████████████████████████████████████████████████████████████████████████████████████████████████████████████████████| 98/98 [00:06<00:00, 14.31it/s]\n",
      "100%|██████████████████████████████████████████████████████████████████████████████████████████████████████████████████████████████████████████████████████████████████████████████████████████████████████| 98/98 [00:06<00:00, 16.22it/s]\n",
      "100%|██████████████████████████████████████████████████████████████████████████████████████████████████████████████████████████████████████████████████████████████████████████████████████████████████████| 98/98 [00:06<00:00, 15.31it/s]\n",
      "100%|████████████████████████████████████████████████████████████████████████████████████████████████████████████████████████████████████████████████████████████████████████████████████████████████████| 393/393 [00:41<00:00,  9.39it/s]\n"
     ]
    },
    {
     "name": "stdout",
     "output_type": "stream",
     "text": [
      "{'epoch': 2, 'A/acc': 0.38071065989847713, 'B/acc': 0.5153061224489796, 'C/acc': 0.5357142857142857, 'D/acc': 0.5816326530612245, 'retain/acc': 0.5681528662420382}\n"
     ]
    },
    {
     "name": "stderr",
     "output_type": "stream",
     "text": [
      "100%|█████████████████████████████████████████████████████████████████████████████| 147/147 [02:25<00:00,  1.01it/s, A/forget_loss=0.014, B/forget_loss=0.0171, C/retain_loss=0.000165, D/retain_loss=0.000195, retain/retain_loss=1.04e-5]\n",
      "100%|██████████████████████████████████████████████████████████████████████████████████████████████████████████████████████████████████████████████████████████████████████████████████████████████████████| 99/99 [00:06<00:00, 14.63it/s]\n",
      "100%|██████████████████████████████████████████████████████████████████████████████████████████████████████████████████████████████████████████████████████████████████████████████████████████████████████| 98/98 [00:06<00:00, 14.75it/s]\n",
      "100%|██████████████████████████████████████████████████████████████████████████████████████████████████████████████████████████████████████████████████████████████████████████████████████████████████████| 98/98 [00:05<00:00, 16.55it/s]\n",
      "100%|██████████████████████████████████████████████████████████████████████████████████████████████████████████████████████████████████████████████████████████████████████████████████████████████████████| 98/98 [00:06<00:00, 15.29it/s]\n",
      "100%|████████████████████████████████████████████████████████████████████████████████████████████████████████████████████████████████████████████████████████████████████████████████████████████████████| 393/393 [00:41<00:00,  9.40it/s]\n"
     ]
    },
    {
     "name": "stdout",
     "output_type": "stream",
     "text": [
      "{'epoch': 3, 'A/acc': 0.3096446700507614, 'B/acc': 0.47959183673469385, 'C/acc': 0.5153061224489796, 'D/acc': 0.5816326530612245, 'retain/acc': 0.5694267515923567}\n",
      "Unlearning fold C\n"
     ]
    },
    {
     "name": "stderr",
     "output_type": "stream",
     "text": [
      "100%|█████████████████████████████████████████████████████████████████████████████| 147/147 [02:08<00:00,  1.14it/s, A/forget_loss=0.00928, B/forget_loss=0.0109, C/forget_loss=0.0116, D/retain_loss=0.000175, retain/retain_loss=1.27e-5]\n",
      "100%|██████████████████████████████████████████████████████████████████████████████████████████████████████████████████████████████████████████████████████████████████████████████████████████████████████| 99/99 [00:06<00:00, 14.64it/s]\n",
      "100%|██████████████████████████████████████████████████████████████████████████████████████████████████████████████████████████████████████████████████████████████████████████████████████████████████████| 98/98 [00:06<00:00, 14.76it/s]\n",
      "100%|██████████████████████████████████████████████████████████████████████████████████████████████████████████████████████████████████████████████████████████████████████████████████████████████████████| 98/98 [00:05<00:00, 16.54it/s]\n",
      "100%|██████████████████████████████████████████████████████████████████████████████████████████████████████████████████████████████████████████████████████████████████████████████████████████████████████| 98/98 [00:06<00:00, 15.30it/s]\n",
      "100%|████████████████████████████████████████████████████████████████████████████████████████████████████████████████████████████████████████████████████████████████████████████████████████████████████| 393/393 [00:41<00:00,  9.36it/s]\n"
     ]
    },
    {
     "name": "stdout",
     "output_type": "stream",
     "text": [
      "{'epoch': 4, 'A/acc': 0.2233502538071066, 'B/acc': 0.4642857142857143, 'C/acc': 0.5153061224489796, 'D/acc': 0.5459183673469388, 'retain/acc': 0.554140127388535}\n"
     ]
    },
    {
     "name": "stderr",
     "output_type": "stream",
     "text": [
      "100%|█████████████████████████████████████████████████████████████████████████████| 147/147 [02:09<00:00,  1.14it/s, A/forget_loss=0.00934, B/forget_loss=0.0103, C/forget_loss=0.0111, D/retain_loss=0.000389, retain/retain_loss=2.53e-5]\n",
      "100%|██████████████████████████████████████████████████████████████████████████████████████████████████████████████████████████████████████████████████████████████████████████████████████████████████████| 99/99 [00:06<00:00, 14.44it/s]\n",
      "100%|██████████████████████████████████████████████████████████████████████████████████████████████████████████████████████████████████████████████████████████████████████████████████████████████████████| 98/98 [00:06<00:00, 14.63it/s]\n",
      "100%|██████████████████████████████████████████████████████████████████████████████████████████████████████████████████████████████████████████████████████████████████████████████████████████████████████| 98/98 [00:06<00:00, 16.25it/s]\n",
      "100%|██████████████████████████████████████████████████████████████████████████████████████████████████████████████████████████████████████████████████████████████████████████████████████████████████████| 98/98 [00:06<00:00, 15.20it/s]\n",
      "100%|████████████████████████████████████████████████████████████████████████████████████████████████████████████████████████████████████████████████████████████████████████████████████████████████████| 393/393 [00:42<00:00,  9.28it/s]\n"
     ]
    },
    {
     "name": "stdout",
     "output_type": "stream",
     "text": [
      "{'epoch': 5, 'A/acc': 0.18781725888324874, 'B/acc': 0.42857142857142855, 'C/acc': 0.4897959183673469, 'D/acc': 0.5510204081632653, 'retain/acc': 0.5452229299363057}\n",
      "Unlearning fold D\n"
     ]
    },
    {
     "name": "stderr",
     "output_type": "stream",
     "text": [
      "100%|████████████████████████████████████████████████████████████████████████████| 147/147 [01:52<00:00,  1.31it/s, A/forget_loss=0.00687, B/forget_loss=0.00699, C/forget_loss=0.00711, D/forget_loss=0.00702, retain/retain_loss=2.78e-5]\n",
      "100%|██████████████████████████████████████████████████████████████████████████████████████████████████████████████████████████████████████████████████████████████████████████████████████████████████████| 99/99 [00:06<00:00, 14.31it/s]\n",
      "100%|██████████████████████████████████████████████████████████████████████████████████████████████████████████████████████████████████████████████████████████████████████████████████████████████████████| 98/98 [00:06<00:00, 14.76it/s]\n",
      "100%|██████████████████████████████████████████████████████████████████████████████████████████████████████████████████████████████████████████████████████████████████████████████████████████████████████| 98/98 [00:05<00:00, 16.57it/s]\n",
      "100%|██████████████████████████████████████████████████████████████████████████████████████████████████████████████████████████████████████████████████████████████████████████████████████████████████████| 98/98 [00:06<00:00, 15.32it/s]\n",
      "100%|████████████████████████████████████████████████████████████████████████████████████████████████████████████████████████████████████████████████████████████████████████████████████████████████████| 393/393 [00:41<00:00,  9.38it/s]\n"
     ]
    },
    {
     "name": "stdout",
     "output_type": "stream",
     "text": [
      "{'epoch': 6, 'A/acc': 0.1319796954314721, 'B/acc': 0.18877551020408162, 'C/acc': 0.25510204081632654, 'D/acc': 0.22959183673469388, 'retain/acc': 0.4547770700636943}\n"
     ]
    },
    {
     "name": "stderr",
     "output_type": "stream",
     "text": [
      "100%|█████████████████████████████████████████████████████████████████████████████| 147/147 [01:52<00:00,  1.31it/s, A/forget_loss=0.00684, B/forget_loss=0.00684, C/forget_loss=0.00687, D/forget_loss=0.00684, retain/retain_loss=4.2e-5]\n",
      "100%|██████████████████████████████████████████████████████████████████████████████████████████████████████████████████████████████████████████████████████████████████████████████████████████████████████| 99/99 [00:06<00:00, 14.35it/s]\n",
      "100%|██████████████████████████████████████████████████████████████████████████████████████████████████████████████████████████████████████████████████████████████████████████████████████████████████████| 98/98 [00:06<00:00, 14.21it/s]\n",
      "100%|██████████████████████████████████████████████████████████████████████████████████████████████████████████████████████████████████████████████████████████████████████████████████████████████████████| 98/98 [00:06<00:00, 16.15it/s]\n",
      "100%|██████████████████████████████████████████████████████████████████████████████████████████████████████████████████████████████████████████████████████████████████████████████████████████████████████| 98/98 [00:06<00:00, 15.04it/s]\n",
      "100%|████████████████████████████████████████████████████████████████████████████████████████████████████████████████████████████████████████████████████████████████████████████████████████████████████| 393/393 [00:42<00:00,  9.29it/s]"
     ]
    },
    {
     "name": "stdout",
     "output_type": "stream",
     "text": [
      "{'epoch': 7, 'A/acc': 0.13705583756345177, 'B/acc': 0.1989795918367347, 'C/acc': 0.22448979591836735, 'D/acc': 0.22959183673469388, 'retain/acc': 0.42420382165605097}\n"
     ]
    },
    {
     "name": "stderr",
     "output_type": "stream",
     "text": [
      "\n"
     ]
    },
    {
     "data": {
      "text/html": [],
      "text/plain": [
       "<IPython.core.display.HTML object>"
      ]
     },
     "metadata": {},
     "output_type": "display_data"
    },
    {
     "data": {
      "text/html": [
       "<br>    <style><br>        .wandb-row {<br>            display: flex;<br>            flex-direction: row;<br>            flex-wrap: wrap;<br>            justify-content: flex-start;<br>            width: 100%;<br>        }<br>        .wandb-col {<br>            display: flex;<br>            flex-direction: column;<br>            flex-basis: 100%;<br>            flex: 1;<br>            padding: 10px;<br>        }<br>    </style><br><div class=\"wandb-row\"><div class=\"wandb-col\"><h3>Run history:</h3><br/><table class=\"wandb\"><tr><td>A/acc</td><td>██▇▅▄▃▂▁▁</td></tr><tr><td>A/forget_loss</td><td>█████████████▃▃▃▃▃▃▃▃▃▃▃▂▂▂▂▂▂▂▁▁▁▂▁▁▁▁▁</td></tr><tr><td>B/acc</td><td>████▇▇▆▁▁</td></tr><tr><td>B/forget_loss</td><td>▆▆▆▆▆▆▆▆▆▆▆█▆▆▆▃▄▃▃▃▅▃▃▃▃▂▃▃▁▁▁▂▁▁▁▁▁▁▁▁</td></tr><tr><td>B/retain_loss</td><td>▁▂▂▂▂▁▂▁▁▁▁▂▁▁▂▁▁▂▂▂▂▂▁▂▃▄▂▂▃▃▆▄▆▃█▄█▆█▄</td></tr><tr><td>C/acc</td><td>██▇▇▇▇▆▂▁</td></tr><tr><td>C/forget_loss</td><td>█████████▇██▇█▇▇▇▇▇██▇▂▂▂▂▁▂▁▁▁▁▁▁▁▁▁▁▁▁</td></tr><tr><td>C/retain_loss</td><td>▂▁▁▁▁▁▁▁▁▂▁▁▂▂▂█▁▂▃▁▁▁▁▁▁▁▁▁▂▁▁▁▂▁▁▁▁▁▁▁</td></tr><tr><td>D/acc</td><td>███▇▇▇▇▁▁</td></tr><tr><td>D/forget_loss</td><td>█▆▄▄▄▄▃▄▄▃▄▃▃▃▃▂▂▂▂▂▂▂▂▁▂▂▂▁▁▁▂▂▂▁▂▁▂▁▁▁</td></tr><tr><td>D/retain_loss</td><td>▁▁▁▁▁▁▁▁▁▁▁▄▂▂▁▇▁▁█▁▂▂▁▁▃▁▂▂▁▂▂▁▂▂▁▂▁▂▄▃</td></tr><tr><td>epoch</td><td>▁▁▁▁▁▂▂▂▃▃▃▃▃▄▄▄▄▅▅▅▅▅▅▅▆▆▆▆▇▇▇▇▇▇▇█████</td></tr><tr><td>global_step</td><td>▁▂▃▃▃▄▄▅▅▅▆▇▇█▂▄▄▄▄▄▅▆▇▇▂▃▄▄▅▅▆▇██▂▃▅▅▇█</td></tr><tr><td>retain/acc</td><td>███▇▇▆▆▂▁</td></tr><tr><td>retain/retain_loss</td><td>▁▁▁▁▁▁▁▁▂▁▁▁▁▂▁▂▁▁▂▁▁▁▁▁▁▁▁▁▁▁▁▁▃▇█▂▂▂▂▂</td></tr></table><br/></div><div class=\"wandb-col\"><h3>Run summary:</h3><br/><table class=\"wandb\"><tr><td>A/acc</td><td>0.13706</td></tr><tr><td>A/forget_loss</td><td>0.00684</td></tr><tr><td>B/acc</td><td>0.19898</td></tr><tr><td>B/forget_loss</td><td>0.00684</td></tr><tr><td>B/retain_loss</td><td>0.00015</td></tr><tr><td>C/acc</td><td>0.22449</td></tr><tr><td>C/forget_loss</td><td>0.00687</td></tr><tr><td>C/retain_loss</td><td>0.00016</td></tr><tr><td>D/acc</td><td>0.22959</td></tr><tr><td>D/forget_loss</td><td>0.00684</td></tr><tr><td>D/retain_loss</td><td>0.00039</td></tr><tr><td>epoch</td><td>7</td></tr><tr><td>global_step</td><td>294</td></tr><tr><td>retain/acc</td><td>0.4242</td></tr><tr><td>retain/retain_loss</td><td>4e-05</td></tr></table><br/></div></div>"
      ],
      "text/plain": [
       "<IPython.core.display.HTML object>"
      ]
     },
     "metadata": {},
     "output_type": "display_data"
    },
    {
     "data": {
      "text/html": [
       " View run <strong style=\"color:#cdcd00\">dedicated-quiver-335</strong> at: <a href='https://wandb.ai/12tqian/relearn/runs/e1dqoan3' target=\"_blank\">https://wandb.ai/12tqian/relearn/runs/e1dqoan3</a><br> View project at: <a href='https://wandb.ai/12tqian/relearn' target=\"_blank\">https://wandb.ai/12tqian/relearn</a><br>Synced 5 W&B file(s), 0 media file(s), 0 artifact file(s) and 0 other file(s)"
      ],
      "text/plain": [
       "<IPython.core.display.HTML object>"
      ]
     },
     "metadata": {},
     "output_type": "display_data"
    },
    {
     "data": {
      "text/html": [
       "Find logs at: <code>./wandb/run-20250214_170938-e1dqoan3/logs</code>"
      ],
      "text/plain": [
       "<IPython.core.display.HTML object>"
      ]
     },
     "metadata": {},
     "output_type": "display_data"
    }
   ],
   "source": [
    "from relearn.unlearn.rmu import train_rmu\n",
    "import itertools\n",
    "\n",
    "import wandb\n",
    "\n",
    "\n",
    "def super_rmu(\n",
    "    model: AutoModelForCausalLM,\n",
    "    tokenizer: AutoTokenizer,\n",
    "    forget_records_dict: Dict[str, Dict],\n",
    "    retain_records_dict: Dict[str, Dict],\n",
    "    eval_records_dict: Dict[str, Dict],\n",
    "    k_folds: int,\n",
    "    lr: float = 1e-5,\n",
    "    joint_train: bool = False,\n",
    "    prefix_forget: bool = True,\n",
    "):\n",
    "    assert k_folds <= 26, \"k_folds must be less than 26\"\n",
    "\n",
    "    def fold_name(i: int):\n",
    "        return chr(ord(\"A\") + i)\n",
    "\n",
    "    folds = get_folds_shuffled(forget_records_dict, k_folds)\n",
    "\n",
    "    def get_data(fold_inds: List[int]):\n",
    "        if joint_train:\n",
    "            return {fold_name(i): folds[i][\"corpus\"] for i in fold_inds}\n",
    "        else:\n",
    "            return {\n",
    "                fold_name(-1): list(\n",
    "                    itertools.chain(\n",
    "                        *[f[k][\"corpus\"] for i, f in enumerate(folds) if i in fold_inds]\n",
    "                    )\n",
    "                )\n",
    "            }\n",
    "\n",
    "    if eval_records_dict is None:\n",
    "        eval_records_dict = {fold_name(i): folds[i][\"val\"] for i in range(k_folds)}\n",
    "        eval_records_dict[\"retain\"] = retain_records_dict[\"val\"]\n",
    "\n",
    "    # intuition: forget alpha decreases\n",
    "    # intuition: retain alpha increases\n",
    "    # priors\n",
    "    # sweep across schedules, and epochs????\n",
    "    # learning rate should probably go down?\n",
    "\n",
    "    # keep retain retain alpha constant\n",
    "    # maybe not do prefix, maybe the bumbling around is what's good?\n",
    "    # try everything\n",
    "    base_epoch = 0\n",
    "    n_epochs = 2\n",
    "    control_vecs = {}\n",
    "\n",
    "    for i in range(k_folds):\n",
    "        print(f\"Unlearning fold {fold_name(i)}\")\n",
    "\n",
    "        if prefix_forget:\n",
    "            forget_fold_inds = list(range(i + 1))\n",
    "        else:\n",
    "            forget_fold_inds = [i]\n",
    "\n",
    "        retain_fold_inds = list(range(i + 1, k_folds))\n",
    "\n",
    "        forget_dict = get_data(forget_fold_inds)\n",
    "        retain_dict = get_data(retain_fold_inds)\n",
    "        retain_dict[\"retain\"] = retain_records_dict[\"corpus\"]\n",
    "\n",
    "        # weird retain coef cause i finetuned for 2/2\n",
    "        model, control_vecs_next = train_rmu(\n",
    "            model,\n",
    "            forget_dict,\n",
    "            retain_dict,\n",
    "            eval_records_dict,\n",
    "            magnitude=6.5,\n",
    "            forget_alphas={k: 0.39422 * 2 / (i + 1 + 1e-6) for k in forget_dict.keys()},\n",
    "            retain_alphas={\n",
    "                **{\n",
    "                    k: 13.51609 * 2 / (k_folds - i - 1 + 1e-6)\n",
    "                    for k in retain_dict.keys()\n",
    "                },\n",
    "                **{\n",
    "                    \"retain\": 1.0,\n",
    "                },\n",
    "            },\n",
    "            lr=lr,\n",
    "            tokenizer=tokenizer,\n",
    "            use_wandb=True,\n",
    "            eval_at_start=True if i == 0 else False,\n",
    "            n_epochs=n_epochs,\n",
    "            max_batches=None,\n",
    "            base_epoch=base_epoch,\n",
    "            return_control_vecs=True,\n",
    "            control_vecs_init=control_vecs,\n",
    "            print_evals=True,\n",
    "        )\n",
    "        control_vecs.update(control_vecs_next)\n",
    "        base_epoch += n_epochs\n",
    "\n",
    "    return model\n",
    "\n",
    "\n",
    "wandb.login()\n",
    "\n",
    "config = {\n",
    "    \"model_id\": model_id,\n",
    "    \"magnitude\": 6.5,\n",
    "    \"lr\": 1e-5,\n",
    "    \"n_epochs\": 12,\n",
    "    \"forget_alphas\": {\"A\": 0.39422},\n",
    "    \"retain_alphas\": {\"B\": 13.51609, \"retain\": 1},\n",
    "}\n",
    "\n",
    "\n",
    "run = wandb.init(\n",
    "    project=\"relearn\", config=config, tags=[\"rmu\", \"fold\", \"debug\"], entity=\"12tqian\"\n",
    ")\n",
    "\n",
    "model = super_rmu(\n",
    "    model,\n",
    "    tokenizer,\n",
    "    data[Datasets.WMDP],\n",
    "    data[\"retain\"],\n",
    "    None,\n",
    "    4,\n",
    "    lr=config[\"lr\"],\n",
    "    joint_train=True,\n",
    ")\n",
    "\n",
    "run.finish()"
   ]
  },
  {
   "cell_type": "code",
   "execution_count": 6,
   "metadata": {},
   "outputs": [
    {
     "ename": "ImportError",
     "evalue": "cannot import name 'train_rtt' from 'relearn.attacks' (/mnt/align4_drive/tcqian/unlearn_order/src/relearn/attacks/__init__.py)",
     "output_type": "error",
     "traceback": [
      "\u001b[0;31m---------------------------------------------------------------------------\u001b[0m",
      "\u001b[0;31mImportError\u001b[0m                               Traceback (most recent call last)",
      "Cell \u001b[0;32mIn[6], line 5\u001b[0m\n\u001b[1;32m      1\u001b[0m \u001b[38;5;66;03m# super attack\u001b[39;00m\n\u001b[1;32m      2\u001b[0m \n\u001b[1;32m      3\u001b[0m \u001b[38;5;66;03m# also do the predetermined folds? informationally separate is fine\u001b[39;00m\n\u001b[1;32m      4\u001b[0m \u001b[38;5;66;03m# why does that work ?\u001b[39;00m\n\u001b[0;32m----> 5\u001b[0m \u001b[38;5;28;01mfrom\u001b[39;00m\u001b[38;5;250m \u001b[39m\u001b[38;5;21;01mrelearn\u001b[39;00m\u001b[38;5;21;01m.\u001b[39;00m\u001b[38;5;21;01mattacks\u001b[39;00m\u001b[38;5;250m \u001b[39m\u001b[38;5;28;01mimport\u001b[39;00m train_rtt\n\u001b[1;32m      7\u001b[0m records \u001b[38;5;241m=\u001b[39m data[Datasets\u001b[38;5;241m.\u001b[39mWMDP]\n\u001b[1;32m      9\u001b[0m folds \u001b[38;5;241m=\u001b[39m get_folds_shuffled(records, k)\n",
      "\u001b[0;31mImportError\u001b[0m: cannot import name 'train_rtt' from 'relearn.attacks' (/mnt/align4_drive/tcqian/unlearn_order/src/relearn/attacks/__init__.py)"
     ]
    }
   ],
   "source": [
    "# super attack\n",
    "\n",
    "# also do the predetermined folds? informationally separate is fine\n",
    "# why does that work ?\n",
    "from relearn.attacks import train_rtt\n",
    "\n",
    "records = data[Datasets.WMDP]\n",
    "\n",
    "folds = get_folds_shuffled(records, k)\n",
    "\n",
    "for i in range(k):\n",
    "\n",
    "    train_fold_inds = range(i + 1)\n",
    "    eval_fold_inds = range(i + 1, k)\n",
    "\n",
    "    train_dict = {fold_name(i): folds[i][\"corpus\"] for i in train_fold_inds}\n",
    "\n",
    "    eval_dict = {fold_name(i): folds[i][\"val\"] for i in eval_fold_inds}\n",
    "\n",
    "    model = train_rtt(\n",
    "        model,\n",
    "        train_dict,\n",
    "        eval_dict,\n",
    "        lr=5e-5,\n",
    "        tokenizer=tokenizer,\n",
    "        use_wandb=True,\n",
    "        eval_at_start=True if i == 0 else False,\n",
    "        n_epochs=2,\n",
    "        max_batches=None,\n",
    "        base_epoch=0,\n",
    "    )"
   ]
  },
  {
   "cell_type": "code",
   "execution_count": null,
   "metadata": {},
   "outputs": [],
   "source": []
  },
  {
   "cell_type": "code",
   "execution_count": null,
   "metadata": {},
   "outputs": [],
   "source": []
  }
 ],
 "metadata": {
  "kernelspec": {
   "display_name": "Python 3 (ipykernel)",
   "language": "python",
   "name": "python3"
  },
  "language_info": {
   "codemirror_mode": {
    "name": "ipython",
    "version": 3
   },
   "file_extension": ".py",
   "mimetype": "text/x-python",
   "name": "python",
   "nbconvert_exporter": "python",
   "pygments_lexer": "ipython3",
   "version": "3.12.2"
  }
 },
 "nbformat": 4,
 "nbformat_minor": 2
}
