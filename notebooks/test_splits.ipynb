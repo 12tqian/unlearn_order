{
 "cells": [
  {
   "cell_type": "code",
   "execution_count": 1,
   "metadata": {},
   "outputs": [],
   "source": [
    "%load_ext autoreload\n",
    "%autoreload 2\n",
    "\n",
    "import os\n",
    "from dotenv import load_dotenv\n",
    "from pathlib import Path\n",
    "from research_tools.gpu import get_gpus_available\n",
    "\n",
    "load_dotenv()\n",
    "\n",
    "\n",
    "hf_access_token = os.getenv(\"HUGGINGFACE_API_KEY\")\n",
    "\n",
    "n_gpus = 1\n",
    "\n",
    "gpus_available = get_gpus_available()\n",
    "n_gpus = min(n_gpus, len(gpus_available))\n",
    "gpus = gpus_available[:n_gpus]\n",
    "\n",
    "assert n_gpus > 0, \"No GPUs available\"\n",
    "\n",
    "os.environ[\"CUDA_VISIBLE_DEVICES\"] = \",\".join([str(i) for i in gpus])"
   ]
  },
  {
   "cell_type": "code",
   "execution_count": 2,
   "metadata": {},
   "outputs": [
    {
     "data": {
      "application/vnd.jupyter.widget-view+json": {
       "model_id": "e3ca91741813403ba167dccc1d08aafd",
       "version_major": 2,
       "version_minor": 0
      },
      "text/plain": [
       "Loading checkpoint shards:   0%|          | 0/8 [00:00<?, ?it/s]"
      ]
     },
     "metadata": {},
     "output_type": "display_data"
    }
   ],
   "source": [
    "from transformers import AutoTokenizer, AutoModelForCausalLM\n",
    "from typing import List, Dict, Optional\n",
    "import torch\n",
    "from research_tools.utils import set_seed\n",
    "\n",
    "set_seed(42)\n",
    "\n",
    "device = torch.device(\"cuda\" if torch.cuda.is_available() else \"cpu\")\n",
    "assert device == torch.device(\"cuda\")\n",
    "\n",
    "model_id = \"HuggingFaceH4/zephyr-7b-beta\"\n",
    "\n",
    "model = AutoModelForCausalLM.from_pretrained(\n",
    "    model_id, torch_dtype=torch.bfloat16, trust_remote_code=True, token=hf_access_token\n",
    ").to(device)\n",
    "tokenizer = AutoTokenizer.from_pretrained(model_id)\n",
    "tokenizer.pad_token_id = tokenizer.eos_token_id"
   ]
  },
  {
   "cell_type": "code",
   "execution_count": 3,
   "metadata": {},
   "outputs": [],
   "source": [
    "from datasets import load_dataset\n",
    "from relearn.datasets.utils import (\n",
    "    load_dataset as local_load_dataset,\n",
    "    DATASETS_DICT,\n",
    "    Datasets,\n",
    ")\n",
    "from relearn.datasets.corpus import process as process_corpus\n",
    "from relearn.datasets.mcq import process as process_mcq\n",
    "import pickle\n",
    "\n",
    "data_dir = Path(\"../data\")\n",
    "cache_path = data_dir / \"full.pickle\"\n",
    "\n",
    "USE_CACHE = True\n",
    "\n",
    "if USE_CACHE:\n",
    "    assert cache_path.exists(), \"Cache file does not exist\"\n",
    "    with open(cache_path, \"rb\") as f:\n",
    "        data = pickle.load(f)\n",
    "else:\n",
    "    data = {}\n",
    "    # iterate over all enums\n",
    "    for name in Datasets:\n",
    "\n",
    "        dataset_config = DATASETS_DICT[name]\n",
    "\n",
    "        def get_dataset(train_files: List[str], val_files: List[str], max_length: int):\n",
    "            train = local_load_dataset(data_dir, train_files)\n",
    "            val = local_load_dataset(data_dir, val_files)\n",
    "            train_records = process_corpus(train, tokenizer, max_length)\n",
    "            val_records = process_mcq(val, tokenizer, max_length)\n",
    "            mcq_records = process_mcq(val, tokenizer, max_length, expand_choices=False)\n",
    "            return {\n",
    "                \"corpus\": train_records,\n",
    "                \"mcq\": mcq_records,\n",
    "                \"val\": val_records,\n",
    "            }\n",
    "\n",
    "        max_length = 512\n",
    "\n",
    "        unlearn_files = dataset_config[\"unlearn_files\"]\n",
    "        val_unlearn_files = dataset_config[\"val_unlearn_files\"]\n",
    "\n",
    "        print(f\"Processing {name}\")\n",
    "\n",
    "        data[name] = get_dataset(unlearn_files, val_unlearn_files, max_length)\n",
    "\n",
    "        if \"retain\" not in data:\n",
    "            retain_files = dataset_config[\"retain_files\"]\n",
    "            val_retain_files = dataset_config[\"val_retain_files\"]\n",
    "            data[\"retain\"] = get_dataset(retain_files, val_retain_files, max_length)\n",
    "\n",
    "    with open(cache_path, \"wb\") as f:\n",
    "        pickle.dump(data, f)"
   ]
  },
  {
   "cell_type": "code",
   "execution_count": 4,
   "metadata": {},
   "outputs": [],
   "source": [
    "import torch\n",
    "\n",
    "\n",
    "def group_shuffle(data: List, group_size: int = 1, perm: Optional[torch.Tensor] = None):\n",
    "    if perm is None:\n",
    "        n = len(data) // group_size\n",
    "        perm = torch.randperm(n)\n",
    "\n",
    "    res = []\n",
    "    for i in perm:\n",
    "        res += data[i * group_size : (i + 1) * group_size]\n",
    "    return res\n",
    "\n",
    "\n",
    "def create_k_folds(data: List, k: int, group_size: int = 1):\n",
    "    n = len(data) // group_size\n",
    "    fold_size = n // k\n",
    "    folds = [fold_size] * k\n",
    "    for i in range(n % k):\n",
    "        folds[i] += 1\n",
    "\n",
    "    assert sum(folds) == n\n",
    "\n",
    "    res = []\n",
    "    start = 0\n",
    "\n",
    "    for fold_size in folds:\n",
    "        start_idx = start * group_size\n",
    "        end_idx = (start + fold_size) * group_size\n",
    "\n",
    "        res.append(data[start_idx:end_idx])\n",
    "\n",
    "        start += fold_size\n",
    "\n",
    "    return res\n",
    "\n",
    "\n",
    "def get_folds_shuffled(records: Dict[str, List], k: int):\n",
    "\n",
    "    perm = torch.randperm(len(records[\"mcq\"]))\n",
    "\n",
    "    store = [\n",
    "        {\"corpus\": c, \"mcq\": m, \"val\": v}\n",
    "        for c, m, v in zip(\n",
    "            create_k_folds(group_shuffle(records[\"corpus\"], 3, perm=perm), k, 3),\n",
    "            create_k_folds(group_shuffle(records[\"mcq\"], perm=perm), k),\n",
    "            create_k_folds(\n",
    "                group_shuffle(\n",
    "                    records[\"val\"],\n",
    "                    4,\n",
    "                    perm=perm,\n",
    "                ),\n",
    "                k,\n",
    "                4,\n",
    "            ),\n",
    "        )\n",
    "    ]\n",
    "\n",
    "    return store\n",
    "\n",
    "\n",
    "records = data[Datasets.WMDP]\n",
    "k = 3\n",
    "\n",
    "store = get_folds_shuffled(records, k)"
   ]
  },
  {
   "cell_type": "code",
   "execution_count": null,
   "metadata": {},
   "outputs": [
    {
     "name": "stderr",
     "output_type": "stream",
     "text": [
      "\u001b[34m\u001b[1mwandb\u001b[0m: Using wandb-core as the SDK backend.  Please refer to https://wandb.me/wandb-core for more information.\n",
      "\u001b[34m\u001b[1mwandb\u001b[0m: Currently logged in as: \u001b[33m12tqian\u001b[0m. Use \u001b[1m`wandb login --relogin`\u001b[0m to force relogin\n"
     ]
    },
    {
     "data": {
      "text/html": [
       "Tracking run with wandb version 0.19.1"
      ],
      "text/plain": [
       "<IPython.core.display.HTML object>"
      ]
     },
     "metadata": {},
     "output_type": "display_data"
    },
    {
     "data": {
      "text/html": [
       "Run data is saved locally in <code>/mnt/align4_drive/tcqian/unlearn_order/notebooks/wandb/run-20250214_140852-wtisuf21</code>"
      ],
      "text/plain": [
       "<IPython.core.display.HTML object>"
      ]
     },
     "metadata": {},
     "output_type": "display_data"
    },
    {
     "data": {
      "text/html": [
       "Syncing run <strong><a href='https://wandb.ai/12tqian/relearn/runs/wtisuf21' target=\"_blank\">special-ring-330</a></strong> to <a href='https://wandb.ai/12tqian/relearn' target=\"_blank\">Weights & Biases</a> (<a href='https://wandb.me/developer-guide' target=\"_blank\">docs</a>)<br>"
      ],
      "text/plain": [
       "<IPython.core.display.HTML object>"
      ]
     },
     "metadata": {},
     "output_type": "display_data"
    },
    {
     "data": {
      "text/html": [
       " View project at <a href='https://wandb.ai/12tqian/relearn' target=\"_blank\">https://wandb.ai/12tqian/relearn</a>"
      ],
      "text/plain": [
       "<IPython.core.display.HTML object>"
      ]
     },
     "metadata": {},
     "output_type": "display_data"
    },
    {
     "data": {
      "text/html": [
       " View run at <a href='https://wandb.ai/12tqian/relearn/runs/wtisuf21' target=\"_blank\">https://wandb.ai/12tqian/relearn/runs/wtisuf21</a>"
      ],
      "text/plain": [
       "<IPython.core.display.HTML object>"
      ]
     },
     "metadata": {},
     "output_type": "display_data"
    },
    {
     "name": "stdout",
     "output_type": "stream",
     "text": [
      "Unlearning fold A\n"
     ]
    },
    {
     "name": "stderr",
     "output_type": "stream",
     "text": [
      "100%|████████████████████████████████████████████████████████████████████████████████████████████████████████████████████████████████████████████████████████████████████| 99/99 [00:07<00:00, 13.00it/s]\n",
      "100%|████████████████████████████████████████████████████████████████████████████████████████████████████████████████████████████████████████████████████████████████████| 98/98 [00:06<00:00, 14.34it/s]\n",
      "100%|████████████████████████████████████████████████████████████████████████████████████████████████████████████████████████████████████████████████████████████████████| 98/98 [00:06<00:00, 16.10it/s]\n",
      "100%|████████████████████████████████████████████████████████████████████████████████████████████████████████████████████████████████████████████████████████████████████| 98/98 [00:06<00:00, 14.94it/s]\n",
      "100%|██████████████████████████████████████████████████████████████████████████████████████████████████████████████████████████████████████████████████████████████████| 393/393 [00:42<00:00,  9.18it/s]\n",
      "  0%|                                                                                                                                                                            | 0/147 [00:00<?, ?it/s]/mnt/align4_drive/tcqian/unlearn_order/src/relearn/unlearn/rmu/unlearn.py:241: UserWarning: Using a target size (torch.Size([1, 1, 4096])) that is different to the input size (torch.Size([4, 512, 4096])). This will likely lead to incorrect results due to broadcasting. Please ensure they have the same size.\n",
      "  forget_loss = torch.nn.functional.mse_loss(\n",
      " 81%|██████████████████████████████████▊        | 119/147 [02:15<00:31,  1.14s/it, A/forget_loss=0.0179, B/retain_loss=1.45e-5, C/retain_loss=1.61e-5, D/retain_loss=1.27e-5, retain/retain_loss=8.75e-7]"
     ]
    }
   ],
   "source": [
    "from relearn.unlearn.rmu import train_rmu\n",
    "import itertools\n",
    "\n",
    "import wandb\n",
    "\n",
    "\n",
    "def super_rmu(\n",
    "    model: AutoModelForCausalLM,\n",
    "    tokenizer: AutoTokenizer,\n",
    "    forget_records_dict: Dict[str, Dict],\n",
    "    retain_records_dict: Dict[str, Dict],\n",
    "    eval_records_dict: Dict[str, Dict],\n",
    "    k_folds: int,\n",
    "    lr: float = 1e-5,\n",
    "    joint_train: bool = False,\n",
    "    prefix_forget: bool = True,\n",
    "):\n",
    "    assert k_folds <= 26, \"k_folds must be less than 26\"\n",
    "\n",
    "    def fold_name(i: int):\n",
    "        return chr(ord(\"A\") + i)\n",
    "\n",
    "    folds = get_folds_shuffled(forget_records_dict, k_folds)\n",
    "\n",
    "    def get_data(fold_inds: List[int]):\n",
    "        if joint_train:\n",
    "            return {fold_name(i): folds[i][\"corpus\"] for i in fold_inds}\n",
    "        else:\n",
    "            return {\n",
    "                fold_name(-1): list(\n",
    "                    itertools.chain(\n",
    "                        *[f[k][\"corpus\"] for i, f in enumerate(folds) if i in fold_inds]\n",
    "                    )\n",
    "                )\n",
    "            }\n",
    "\n",
    "    if eval_records_dict is None:\n",
    "        eval_records_dict = {fold_name(i): folds[i][\"val\"] for i in range(k_folds)}\n",
    "        eval_records_dict[\"retain\"] = retain_records_dict[\"val\"]\n",
    "\n",
    "    # intuition: forget alpha decreases\n",
    "    # intuition: retain alpha increases\n",
    "    # keep retain retain alpha constant\n",
    "    base_epoch = 0\n",
    "    n_epochs = 2\n",
    "    control_vecs = {}\n",
    "\n",
    "    for i in range(k_folds):\n",
    "        print(f\"Unlearning fold {fold_name(i)}\")\n",
    "\n",
    "        if prefix_forget:\n",
    "            forget_fold_inds = list(range(i + 1))\n",
    "        else:\n",
    "            forget_fold_inds = [i]\n",
    "\n",
    "        retain_fold_inds = list(range(i + 1, k_folds))\n",
    "\n",
    "        forget_dict = get_data(forget_fold_inds)\n",
    "        retain_dict = get_data(retain_fold_inds)\n",
    "        retain_dict[\"retain\"] = retain_records_dict[\"corpus\"]\n",
    "\n",
    "        model, control_vecs_next = train_rmu(\n",
    "            model,\n",
    "            forget_dict,\n",
    "            retain_dict,\n",
    "            eval_records_dict,\n",
    "            magnitude=6.5,\n",
    "            forget_alphas={k: 0.39422 for k in forget_dict.keys()},\n",
    "            retain_alphas={\n",
    "                **{k: 13.51609 for k in retain_dict.keys()},\n",
    "                **{\n",
    "                    \"retain\": 1.0,\n",
    "                },\n",
    "            },\n",
    "            lr=lr,\n",
    "            tokenizer=tokenizer,\n",
    "            use_wandb=True,\n",
    "            eval_at_start=True if i == 0 else False,\n",
    "            n_epochs=n_epochs,\n",
    "            max_batches=None,\n",
    "            base_epoch=base_epoch,\n",
    "            return_control_vecs=True,\n",
    "            control_vecs_init=control_vecs,\n",
    "        )\n",
    "        control_vecs.update(\n",
    "            control_vecs_next\n",
    "        )\n",
    "        base_epoch += n_epochs\n",
    "\n",
    "    return model\n",
    "\n",
    "\n",
    "wandb.login()\n",
    "\n",
    "config = {\n",
    "    \"model_id\": model_id,\n",
    "    \"magnitude\": 6.5,\n",
    "    \"lr\": 1e-5,\n",
    "    \"n_epochs\": 12,\n",
    "    \"forget_alphas\": {\"A\": 0.39422},\n",
    "    \"retain_alphas\": {\"B\": 13.51609, \"retain\": 1},\n",
    "}\n",
    "\n",
    "\n",
    "run = wandb.init(\n",
    "    project=\"relearn\", config=config, tags=[\"rmu\", \"fold\", \"debug\"], entity=\"12tqian\"\n",
    ")\n",
    "\n",
    "model = super_rmu(\n",
    "    model,\n",
    "    tokenizer,\n",
    "    data[Datasets.WMDP],\n",
    "    data[\"retain\"],\n",
    "    None,\n",
    "    4,\n",
    "    lr=config[\"lr\"],\n",
    "    joint_train=True,\n",
    ")\n",
    "\n",
    "run.finish()"
   ]
  },
  {
   "cell_type": "code",
   "execution_count": null,
   "metadata": {},
   "outputs": [
    {
     "data": {
      "text/plain": [
       "{'a': 1, 'b': 2}"
      ]
     },
     "execution_count": 12,
     "metadata": {},
     "output_type": "execute_result"
    }
   ],
   "source": [
    "# super attack\n",
    "from relearn.attacks import train_rtt\n",
    "\n",
    "records = data[Datasets.WMDP]\n",
    "\n",
    "folds = get_folds_shuffled(records, k)\n",
    "\n",
    "for i in range(k):\n",
    "\n",
    "    train_fold_inds = range(i + 1)\n",
    "    eval_fold_inds = range(i + 1, k)\n",
    "\n",
    "    train_dict = {\n",
    "        fold_name(i): folds[i][\"corpus\"] for i in train_fold_inds\n",
    "    }\n",
    "\n",
    "    eval_dict = {\n",
    "        fold_name(i): folds[i][\"val\"] for i in eval_fold_inds\n",
    "    }\n",
    "\n",
    "\n",
    "    model = train_rtt(\n",
    "        model,\n",
    "        train_dict,\n",
    "        eval_dict,\n",
    "        lr=5e-5,\n",
    "        tokenizer=tokenizer,\n",
    "        use_wandb=True,\n",
    "        eval_at_start=True if i == 0 else False,\n",
    "        n_epochs=2,\n",
    "        max_batches=None,\n",
    "        base_epoch=0,\n",
    "    )\n",
    "\n"
   ]
  },
  {
   "cell_type": "code",
   "execution_count": null,
   "metadata": {},
   "outputs": [],
   "source": []
  },
  {
   "cell_type": "code",
   "execution_count": null,
   "metadata": {},
   "outputs": [],
   "source": []
  }
 ],
 "metadata": {
  "kernelspec": {
   "display_name": "Python 3 (ipykernel)",
   "language": "python",
   "name": "python3"
  },
  "language_info": {
   "codemirror_mode": {
    "name": "ipython",
    "version": 3
   },
   "file_extension": ".py",
   "mimetype": "text/x-python",
   "name": "python",
   "nbconvert_exporter": "python",
   "pygments_lexer": "ipython3",
   "version": "3.12.2"
  }
 },
 "nbformat": 4,
 "nbformat_minor": 2
}
