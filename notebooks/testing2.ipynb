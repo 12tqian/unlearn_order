{
 "cells": [
  {
   "cell_type": "code",
   "execution_count": 1,
   "metadata": {},
   "outputs": [
    {
     "name": "stdout",
     "output_type": "stream",
     "text": [
      "Loaded environment variables from .env file.\n"
     ]
    }
   ],
   "source": [
    "%load_ext autoreload\n",
    "%autoreload 2\n",
    "\n",
    "import sys\n",
    "import os\n",
    "import dotenv\n",
    "from pathlib import Path\n",
    "\n",
    "env_file = \"../.env\"\n",
    "\n",
    "if os.path.exists(env_file):\n",
    "    dotenv.load_dotenv(env_file, verbose=True)\n",
    "    print(\"Loaded environment variables from .env file.\")\n",
    "\n",
    "cwd = os.getcwd()\n",
    "# for some reason appending to PATH you need it to be string\n",
    "sys.path.append(str(Path(cwd).parent / \"src\"))\n",
    "hf_access_token = os.getenv(\"HUGGINGFACE_API_KEY\")"
   ]
  },
  {
   "cell_type": "code",
   "execution_count": 2,
   "metadata": {},
   "outputs": [
    {
     "data": {
      "application/vnd.jupyter.widget-view+json": {
       "model_id": "b64932b8e5ab470295a2b4325276090c",
       "version_major": 2,
       "version_minor": 0
      },
      "text/plain": [
       "Loading checkpoint shards:   0%|          | 0/4 [00:00<?, ?it/s]"
      ]
     },
     "metadata": {},
     "output_type": "display_data"
    }
   ],
   "source": [
    "import torch\n",
    "from research_tools import get_gpus_available\n",
    "from transformers import AutoModelForCausalLM, AutoTokenizer\n",
    "from transformers import LlamaForCausalLM, LlamaTokenizer\n",
    "\n",
    "\n",
    "os.environ[\"CUDA_VISIBLE_DEVICES\"] = \",\".join([str(i) for i in get_gpus_available()])\n",
    "model_dtype = torch.bfloat16\n",
    "device = torch.device(\"cuda\" if torch.cuda.is_available() else \"cpu\")\n",
    "assert device.type == \"cuda\", \"No GPU available.\"\n",
    "\n",
    "model_name = \"meta-llama/Meta-Llama-3-8B\"\n",
    "\n",
    "model: LlamaForCausalLM = AutoModelForCausalLM.from_pretrained(\n",
    "    model_name, token=hf_access_token, torch_dtype=model_dtype\n",
    ")\n",
    "model = model.to(device)\n",
    "\n",
    "tokenizer: LlamaTokenizer = AutoTokenizer.from_pretrained(\n",
    "    model_name, token=hf_access_token\n",
    ")\n",
    "tokenizer.pad_token_id = tokenizer.eos_token_id\n",
    "tokenizer.padding_side = \"left\""
   ]
  },
  {
   "cell_type": "code",
   "execution_count": 18,
   "metadata": {},
   "outputs": [],
   "source": [
    "from peft import get_peft_model, LoraConfig\n",
    "\n",
    "lora_rank = 64\n",
    "lora_alpha = 8\n",
    "\n",
    "lora_config = LoraConfig(\n",
    "    r=lora_rank,\n",
    "    lora_alpha=lora_alpha,\n",
    "    target_modules=[\"q_proj\", \"v_proj\"],\n",
    ")\n",
    "\n",
    "model = get_peft_model(model, lora_config)"
   ]
  },
  {
   "cell_type": "code",
   "execution_count": 31,
   "metadata": {},
   "outputs": [],
   "source": [
    "from unlearn_order.dataset import load_dataset\n",
    "\n",
    "data_dir = Path(\"../data/random_bd\")\n",
    "\n",
    "splits = list(range(10))\n",
    "n_train = 1\n",
    "n_val = 1\n",
    "\n",
    "train_files = [f\"split_{splits[i]}.jsonl\" for i in range(n_train)]\n",
    "val_files = [f\"split_{splits[i]}.jsonl\" for i in range(n_train, n_train + n_val)]\n",
    "combined_files = train_files + val_files\n",
    "\n",
    "train_dataset = load_dataset(data_dir, train_files)\n",
    "val_dataset = load_dataset(data_dir, val_files)\n",
    "combined_dataset = load_dataset(data_dir, combined_files)"
   ]
  },
  {
   "cell_type": "code",
   "execution_count": 34,
   "metadata": {},
   "outputs": [
    {
     "name": "stdout",
     "output_type": "stream",
     "text": [
      "{'question': 'When was Josefina Navarrete born?', 'choices': [1955, 2019, 1945, 1932], 'answer': 3}\n"
     ]
    }
   ],
   "source": [
    "print(val_dataset[0])"
   ]
  },
  {
   "cell_type": "code",
   "execution_count": 32,
   "metadata": {},
   "outputs": [
    {
     "name": "stderr",
     "output_type": "stream",
     "text": [
      " 10%|█         | 10/100 [01:02<09:24,  6.27s/it]"
     ]
    },
    {
     "name": "stdout",
     "output_type": "stream",
     "text": [
      "Epoch 9 loss: 0.01222300339656271 acc: 0.3184713375796178\n"
     ]
    },
    {
     "name": "stderr",
     "output_type": "stream",
     "text": [
      " 20%|██        | 20/100 [02:05<08:22,  6.29s/it]"
     ]
    },
    {
     "name": "stdout",
     "output_type": "stream",
     "text": [
      "Epoch 19 loss: 0.010634039902383355 acc: 0.40764331210191085\n"
     ]
    },
    {
     "name": "stderr",
     "output_type": "stream",
     "text": [
      " 30%|███       | 30/100 [03:08<07:20,  6.30s/it]"
     ]
    },
    {
     "name": "stdout",
     "output_type": "stream",
     "text": [
      "Epoch 29 loss: 0.007796729208937116 acc: 0.45222929936305734\n"
     ]
    },
    {
     "name": "stderr",
     "output_type": "stream",
     "text": [
      " 40%|████      | 40/100 [04:11<06:17,  6.30s/it]"
     ]
    },
    {
     "name": "stdout",
     "output_type": "stream",
     "text": [
      "Epoch 39 loss: 0.0044266715361054535 acc: 0.6592356687898089\n"
     ]
    },
    {
     "name": "stderr",
     "output_type": "stream",
     "text": [
      " 50%|█████     | 50/100 [05:14<05:14,  6.29s/it]"
     ]
    },
    {
     "name": "stdout",
     "output_type": "stream",
     "text": [
      "Epoch 49 loss: 0.0019284283718580652 acc: 0.7292993630573248\n"
     ]
    },
    {
     "name": "stderr",
     "output_type": "stream",
     "text": [
      " 60%|██████    | 60/100 [06:17<04:11,  6.30s/it]"
     ]
    },
    {
     "name": "stdout",
     "output_type": "stream",
     "text": [
      "Epoch 59 loss: 0.0012011425806933147 acc: 0.7929936305732485\n"
     ]
    },
    {
     "name": "stderr",
     "output_type": "stream",
     "text": [
      " 70%|███████   | 70/100 [07:20<03:09,  6.30s/it]"
     ]
    },
    {
     "name": "stdout",
     "output_type": "stream",
     "text": [
      "Epoch 69 loss: 0.0007304081583549832 acc: 0.8312101910828026\n"
     ]
    },
    {
     "name": "stderr",
     "output_type": "stream",
     "text": [
      " 80%|████████  | 80/100 [08:23<02:05,  6.29s/it]"
     ]
    },
    {
     "name": "stdout",
     "output_type": "stream",
     "text": [
      "Epoch 79 loss: 0.0006901777948543524 acc: 0.8280254777070064\n"
     ]
    },
    {
     "name": "stderr",
     "output_type": "stream",
     "text": [
      " 90%|█████████ | 90/100 [09:26<01:02,  6.30s/it]"
     ]
    },
    {
     "name": "stdout",
     "output_type": "stream",
     "text": [
      "Epoch 89 loss: 0.00047678647378969724 acc: 0.856687898089172\n"
     ]
    },
    {
     "name": "stderr",
     "output_type": "stream",
     "text": [
      "100%|██████████| 100/100 [10:29<00:00,  6.29s/it]"
     ]
    },
    {
     "name": "stdout",
     "output_type": "stream",
     "text": [
      "Epoch 99 loss: 0.0003048435230235195 acc: 0.8662420382165605\n",
      "Combine train acc: 0.8662420382165605\n"
     ]
    },
    {
     "name": "stderr",
     "output_type": "stream",
     "text": [
      "\n"
     ]
    },
    {
     "name": "stdout",
     "output_type": "stream",
     "text": [
      "combine eval acc: 0.8375796178343949\n"
     ]
    },
    {
     "name": "stderr",
     "output_type": "stream",
     "text": [
      " 10%|█         | 10/100 [01:03<09:27,  6.30s/it]"
     ]
    },
    {
     "name": "stdout",
     "output_type": "stream",
     "text": [
      "Epoch 9 loss: 0.005769265447832217 acc: 0.5828025477707006\n"
     ]
    },
    {
     "name": "stderr",
     "output_type": "stream",
     "text": [
      " 20%|██        | 20/100 [02:05<08:23,  6.30s/it]"
     ]
    },
    {
     "name": "stdout",
     "output_type": "stream",
     "text": [
      "Epoch 19 loss: 0.005529598018546013 acc: 0.49363057324840764\n"
     ]
    },
    {
     "name": "stderr",
     "output_type": "stream",
     "text": [
      " 30%|███       | 30/100 [03:09<07:21,  6.30s/it]"
     ]
    },
    {
     "name": "stdout",
     "output_type": "stream",
     "text": [
      "Epoch 29 loss: 0.0052527442669412895 acc: 0.39490445859872614\n"
     ]
    },
    {
     "name": "stderr",
     "output_type": "stream",
     "text": [
      " 40%|████      | 40/100 [04:11<06:17,  6.29s/it]"
     ]
    },
    {
     "name": "stdout",
     "output_type": "stream",
     "text": [
      "Epoch 39 loss: 0.005240143152179232 acc: 0.3662420382165605\n"
     ]
    },
    {
     "name": "stderr",
     "output_type": "stream",
     "text": [
      " 45%|████▌     | 45/100 [04:49<05:54,  6.44s/it]\n"
     ]
    },
    {
     "name": "stdout",
     "output_type": "stream",
     "text": [
      "Unlearn train accuracy: 0.36942675159235666\n",
      "Unlearn val accuracy: 0.3630573248407643\n"
     ]
    },
    {
     "name": "stderr",
     "output_type": "stream",
     "text": [
      " 10%|█         | 10/100 [00:31<04:47,  3.19s/it]"
     ]
    },
    {
     "name": "stdout",
     "output_type": "stream",
     "text": [
      "Epoch 9 loss: 0.00014086264915242318 acc: 0.8789808917197452\n"
     ]
    },
    {
     "name": "stderr",
     "output_type": "stream",
     "text": [
      " 20%|██        | 20/100 [01:03<04:14,  3.18s/it]"
     ]
    },
    {
     "name": "stdout",
     "output_type": "stream",
     "text": [
      "Epoch 19 loss: 0.00012195629963449611 acc: 0.8089171974522293\n"
     ]
    },
    {
     "name": "stderr",
     "output_type": "stream",
     "text": [
      " 30%|███       | 30/100 [01:35<03:42,  3.18s/it]"
     ]
    },
    {
     "name": "stdout",
     "output_type": "stream",
     "text": [
      "Epoch 29 loss: 3.1171685046142646e-05 acc: 0.8089171974522293\n"
     ]
    },
    {
     "name": "stderr",
     "output_type": "stream",
     "text": [
      " 40%|████      | 40/100 [02:07<03:11,  3.19s/it]"
     ]
    },
    {
     "name": "stdout",
     "output_type": "stream",
     "text": [
      "Epoch 39 loss: 4.6760567807248395e-06 acc: 0.8343949044585988\n"
     ]
    },
    {
     "name": "stderr",
     "output_type": "stream",
     "text": [
      " 50%|█████     | 50/100 [02:39<02:39,  3.19s/it]"
     ]
    },
    {
     "name": "stdout",
     "output_type": "stream",
     "text": [
      "Epoch 49 loss: 4.184663953455343e-06 acc: 0.8662420382165605\n"
     ]
    },
    {
     "name": "stderr",
     "output_type": "stream",
     "text": [
      " 60%|██████    | 60/100 [03:10<02:07,  3.18s/it]"
     ]
    },
    {
     "name": "stdout",
     "output_type": "stream",
     "text": [
      "Epoch 59 loss: 9.520840515963923e-06 acc: 0.8535031847133758\n"
     ]
    },
    {
     "name": "stderr",
     "output_type": "stream",
     "text": [
      " 70%|███████   | 70/100 [03:42<01:35,  3.18s/it]"
     ]
    },
    {
     "name": "stdout",
     "output_type": "stream",
     "text": [
      "Epoch 69 loss: 1.6576426741307465e-06 acc: 0.8598726114649682\n"
     ]
    },
    {
     "name": "stderr",
     "output_type": "stream",
     "text": [
      " 80%|████████  | 80/100 [04:14<01:03,  3.18s/it]"
     ]
    },
    {
     "name": "stdout",
     "output_type": "stream",
     "text": [
      "Epoch 79 loss: 1.5164488411373547e-06 acc: 0.8853503184713376\n"
     ]
    },
    {
     "name": "stderr",
     "output_type": "stream",
     "text": [
      " 90%|█████████ | 90/100 [04:46<00:31,  3.18s/it]"
     ]
    },
    {
     "name": "stdout",
     "output_type": "stream",
     "text": [
      "Epoch 89 loss: 1.1292493373458125e-06 acc: 0.8471337579617835\n"
     ]
    },
    {
     "name": "stderr",
     "output_type": "stream",
     "text": [
      "100%|██████████| 100/100 [05:18<00:00,  3.18s/it]"
     ]
    },
    {
     "name": "stdout",
     "output_type": "stream",
     "text": [
      "Epoch 99 loss: 8.9306220059857e-07 acc: 0.8726114649681529\n"
     ]
    },
    {
     "name": "stderr",
     "output_type": "stream",
     "text": [
      "\n"
     ]
    },
    {
     "name": "stdout",
     "output_type": "stream",
     "text": [
      "Train accuracy: 0.8789808917197452\n",
      "Val accuracy: 0.8089171974522293\n"
     ]
    }
   ],
   "source": [
    "# original experiment\n",
    "# learn T, V\n",
    "# forget T, V\n",
    "# learn T\n",
    "from unlearn_order.finetune import finetune_model\n",
    "from unlearn_order.eval import eval_dataset\n",
    "\n",
    "tolerance = 0.1\n",
    "batch_size = 32\n",
    "lr = 3e-5\n",
    "\n",
    "model, loss_traj, acc_traj = finetune_model(\n",
    "    model, tokenizer, combined_dataset, batch_size=batch_size, tolerance=tolerance\n",
    ")\n",
    "print(f\"Combine train acc: {acc_traj[-1]}\")\n",
    "combine_eval = eval_dataset(model, tokenizer, combined_dataset, batch_size=batch_size)\n",
    "print(f\"combine eval acc: {combine_eval}\")\n",
    "\n",
    "model, loss_traj, acc_traj = finetune_model(\n",
    "    model,\n",
    "    tokenizer,\n",
    "    combined_dataset,\n",
    "    batch_size=batch_size,\n",
    "    shuffle_labels=True,\n",
    "    tolerance=tolerance,\n",
    "    lr=lr,\n",
    ")\n",
    "t_acc = eval_dataset(model, tokenizer, train_dataset, batch_size=batch_size)\n",
    "v_acc = eval_dataset(model, tokenizer, val_dataset, batch_size=batch_size)\n",
    "print(f\"Unlearn train accuracy: {t_acc}\")\n",
    "print(f\"Unlearn val accuracy: {v_acc}\")\n",
    "model, loss_traj, acc_traj = finetune_model(\n",
    "    model, tokenizer, train_dataset, batch_size=batch_size, tolerance=tolerance\n",
    ")\n",
    "\n",
    "t_acc = eval_dataset(model, tokenizer, train_dataset, batch_size=batch_size)\n",
    "v_acc = eval_dataset(model, tokenizer, val_dataset, batch_size=batch_size)\n",
    "print(f\"Train accuracy: {t_acc}\")\n",
    "print(f\"Val accuracy: {v_acc}\")"
   ]
  },
  {
   "cell_type": "code",
   "execution_count": null,
   "metadata": {},
   "outputs": [],
   "source": [
    "from unlearn_order.pipeline import run_pipeline\n",
    "\n",
    "batch_size = 32\n",
    "tolerance = 0.01\n",
    "lr = 3e-6\n",
    "max_epochs = 100\n",
    "\n",
    "run_pipeline(\n",
    "    model,\n",
    "    tokenizer,\n",
    "    [\n",
    "        (\"f\", \"combined\", combined_dataset),\n",
    "        (\"u\", \"unlearn\", combined_dataset),\n",
    "        (\"e\", \"eval_train\", train_dataset),\n",
    "        (\"e\", \"eval_val\", val_dataset)(\"f\", \"retrain_train\", train_dataset),\n",
    "        (\"e\", \"eval_train\", train_dataset),\n",
    "        (\"e\", \"eval_val\", val_dataset),\n",
    "    ],\n",
    "    batch_size=batch_size,\n",
    "    tolerance=tolerance,\n",
    "    lr=lr,\n",
    "    max_epochs=max_epochs,\n",
    ")"
   ]
  },
  {
   "cell_type": "code",
   "execution_count": null,
   "metadata": {},
   "outputs": [],
   "source": [
    "from unlearn_order.pipeline import run_pipeline\n",
    "\n",
    "batch_size = 32\n",
    "tolerance = 0.01\n",
    "lr = 3e-5\n",
    "max_steps = 1000\n",
    "\n",
    "run_pipeline(\n",
    "    model,\n",
    "    tokenizer,\n",
    "    [\n",
    "        (\"f\", \"train_train\", train_dataset),\n",
    "        (\"f\", \"val_train\", val_dataset),\n",
    "        (\"e\", \"eval_train\", train_dataset),\n",
    "        (\"e\", \"eval_val\", val_dataset)(\"u\", \"unlearn\", combined_dataset),\n",
    "        (\"e\", \"eval_train\", train_dataset),\n",
    "        (\"e\", \"eval_val\", val_dataset)(\"f\", \"retrain_train\", train_dataset),\n",
    "        (\"e\", \"eval_train\", train_dataset),\n",
    "        (\"e\", \"eval_val\", val_dataset),\n",
    "    ],\n",
    "    batch_size=batch_size,\n",
    "    tolerance=tolerance,\n",
    "    lr=lr,\n",
    "    max_epochs=100,\n",
    ")"
   ]
  },
  {
   "cell_type": "code",
   "execution_count": null,
   "metadata": {},
   "outputs": [],
   "source": [
    "from unlearn_order.pipeline import run_pipeline\n",
    "\n",
    "batch_size = 28\n",
    "tolerance = 0.05\n",
    "\n",
    "run_pipeline(\n",
    "    model,\n",
    "    tokenizer,\n",
    "    [\n",
    "        (\"f\", \"val_train\", val_dataset),\n",
    "        (\"f\", \"train_train\", train_dataset),\n",
    "        (\"e\", \"eval_train\", train_dataset),\n",
    "        (\"e\", \"eval_val\", val_dataset)(\"u\", \"unlearn\", combined_dataset),\n",
    "        (\"e\", \"eval_train\", train_dataset),\n",
    "        (\"e\", \"eval_val\", val_dataset)(\"f\", \"retrain_train\", train_dataset),\n",
    "        (\"e\", \"eval_train\", train_dataset),\n",
    "        (\"e\", \"eval_val\", val_dataset),\n",
    "    ],\n",
    "    batch_size=batch_size,\n",
    "    tolerance=tolerance,\n",
    "    lr=lr,\n",
    ")"
   ]
  },
  {
   "cell_type": "code",
   "execution_count": null,
   "metadata": {},
   "outputs": [],
   "source": []
  }
 ],
 "metadata": {
  "kernelspec": {
   "display_name": "venv",
   "language": "python",
   "name": "python3"
  },
  "language_info": {
   "codemirror_mode": {
    "name": "ipython",
    "version": 3
   },
   "file_extension": ".py",
   "mimetype": "text/x-python",
   "name": "python",
   "nbconvert_exporter": "python",
   "pygments_lexer": "ipython3",
   "version": "3.12.2"
  }
 },
 "nbformat": 4,
 "nbformat_minor": 2
}
