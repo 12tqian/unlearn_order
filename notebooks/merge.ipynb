{
 "cells": [
  {
   "cell_type": "code",
   "execution_count": 1,
   "metadata": {},
   "outputs": [],
   "source": [
    "%load_ext autoreload\n",
    "%autoreload 2\n",
    "\n",
    "import os\n",
    "from dotenv import load_dotenv\n",
    "from pathlib import Path\n",
    "from research_tools.gpu import get_gpus_available\n",
    "\n",
    "load_dotenv()\n",
    "\n",
    "\n",
    "hf_access_token = os.getenv(\"HUGGINGFACE_API_KEY\")\n",
    "\n",
    "n_gpus = 1\n",
    "\n",
    "gpus_available = get_gpus_available()\n",
    "n_gpus = min(n_gpus, len(gpus_available))\n",
    "gpus = gpus_available[:n_gpus]\n",
    "\n",
    "assert n_gpus > 0, \"No GPUs available\"\n",
    "\n",
    "os.environ[\"CUDA_VISIBLE_DEVICES\"] = \",\".join([str(i) for i in gpus])"
   ]
  },
  {
   "cell_type": "code",
   "execution_count": 2,
   "metadata": {},
   "outputs": [
    {
     "data": {
      "application/vnd.jupyter.widget-view+json": {
       "model_id": "999a47eb6a5b438782ad48eb3e43542f",
       "version_major": 2,
       "version_minor": 0
      },
      "text/plain": [
       "Loading checkpoint shards:   0%|          | 0/8 [00:00<?, ?it/s]"
      ]
     },
     "metadata": {},
     "output_type": "display_data"
    }
   ],
   "source": [
    "from transformers import AutoTokenizer, AutoModelForCausalLM\n",
    "from typing import List, Dict, Optional\n",
    "import torch\n",
    "from research_tools.utils import set_seed\n",
    "\n",
    "set_seed(42)\n",
    "\n",
    "device = torch.device(\"cuda\" if torch.cuda.is_available() else \"cpu\")\n",
    "assert device == torch.device(\"cuda\")\n",
    "\n",
    "model_id = \"HuggingFaceH4/zephyr-7b-beta\"\n",
    "\n",
    "model = AutoModelForCausalLM.from_pretrained(\n",
    "    model_id, torch_dtype=torch.bfloat16, trust_remote_code=True, token=hf_access_token\n",
    ").to(device)\n",
    "tokenizer = AutoTokenizer.from_pretrained(model_id)\n",
    "tokenizer.pad_token_id = tokenizer.eos_token_id"
   ]
  },
  {
   "cell_type": "code",
   "execution_count": null,
   "metadata": {},
   "outputs": [
    {
     "name": "stdout",
     "output_type": "stream",
     "text": [
      "Processing Datasets.MMLU 0 0 2\n"
     ]
    },
    {
     "data": {
      "application/vnd.jupyter.widget-view+json": {
       "model_id": "10c5e5e9a11d49f288342c057c4f194a",
       "version_major": 2,
       "version_minor": 0
      },
      "text/plain": [
       "Filter:   0%|          | 0/942 [00:00<?, ? examples/s]"
      ]
     },
     "metadata": {},
     "output_type": "display_data"
    },
    {
     "data": {
      "application/vnd.jupyter.widget-view+json": {
       "model_id": "895a028c6eac4b65b3d61ceae7cc53e5",
       "version_major": 2,
       "version_minor": 0
      },
      "text/plain": [
       "Map:   0%|          | 0/942 [00:00<?, ? examples/s]"
      ]
     },
     "metadata": {},
     "output_type": "display_data"
    },
    {
     "name": "stdout",
     "output_type": "stream",
     "text": [
      "Processing Datasets.MMLU 1 2 4\n"
     ]
    },
    {
     "data": {
      "application/vnd.jupyter.widget-view+json": {
       "model_id": "c52825592a3748a188eab2b13c868310",
       "version_major": 2,
       "version_minor": 0
      },
      "text/plain": [
       "Filter:   0%|          | 0/942 [00:00<?, ? examples/s]"
      ]
     },
     "metadata": {},
     "output_type": "display_data"
    },
    {
     "data": {
      "application/vnd.jupyter.widget-view+json": {
       "model_id": "3ff444ef47764c2092e173fcaf112cdb",
       "version_major": 2,
       "version_minor": 0
      },
      "text/plain": [
       "Map:   0%|          | 0/942 [00:00<?, ? examples/s]"
      ]
     },
     "metadata": {},
     "output_type": "display_data"
    },
    {
     "name": "stdout",
     "output_type": "stream",
     "text": [
      "Processing Datasets.MMLU 2 4 5\n"
     ]
    },
    {
     "data": {
      "application/vnd.jupyter.widget-view+json": {
       "model_id": "ed895b4e5ca2452f9c4cf941103b4982",
       "version_major": 2,
       "version_minor": 0
      },
      "text/plain": [
       "Filter:   0%|          | 0/471 [00:00<?, ? examples/s]"
      ]
     },
     "metadata": {},
     "output_type": "display_data"
    },
    {
     "data": {
      "application/vnd.jupyter.widget-view+json": {
       "model_id": "c1ef75846a9a4c179dc5dfe1d3b2662b",
       "version_major": 2,
       "version_minor": 0
      },
      "text/plain": [
       "Map:   0%|          | 0/471 [00:00<?, ? examples/s]"
      ]
     },
     "metadata": {},
     "output_type": "display_data"
    },
    {
     "data": {
      "application/vnd.jupyter.widget-view+json": {
       "model_id": "8c05c4a7e2d34a57ababcf061386c81f",
       "version_major": 2,
       "version_minor": 0
      },
      "text/plain": [
       "Filter:   0%|          | 0/10000 [00:00<?, ? examples/s]"
      ]
     },
     "metadata": {},
     "output_type": "display_data"
    },
    {
     "data": {
      "application/vnd.jupyter.widget-view+json": {
       "model_id": "f5809efdaab24865b2b228ef337f226a",
       "version_major": 2,
       "version_minor": 0
      },
      "text/plain": [
       "Map:   0%|          | 0/10000 [00:00<?, ? examples/s]"
      ]
     },
     "metadata": {},
     "output_type": "display_data"
    },
    {
     "name": "stdout",
     "output_type": "stream",
     "text": [
      "Processing Datasets.YEARS 0 0 2\n"
     ]
    },
    {
     "data": {
      "application/vnd.jupyter.widget-view+json": {
       "model_id": "bce0c2937b9b4946be3c1b16fd014d98",
       "version_major": 2,
       "version_minor": 0
      },
      "text/plain": [
       "Filter:   0%|          | 0/942 [00:00<?, ? examples/s]"
      ]
     },
     "metadata": {},
     "output_type": "display_data"
    },
    {
     "data": {
      "application/vnd.jupyter.widget-view+json": {
       "model_id": "1a78ffefa7b340af987b2b74d19b566f",
       "version_major": 2,
       "version_minor": 0
      },
      "text/plain": [
       "Map:   0%|          | 0/942 [00:00<?, ? examples/s]"
      ]
     },
     "metadata": {},
     "output_type": "display_data"
    },
    {
     "name": "stdout",
     "output_type": "stream",
     "text": [
      "Processing Datasets.YEARS 1 2 4\n"
     ]
    },
    {
     "data": {
      "application/vnd.jupyter.widget-view+json": {
       "model_id": "80a3aca78f2a4a048197ef21fa206ff5",
       "version_major": 2,
       "version_minor": 0
      },
      "text/plain": [
       "Filter:   0%|          | 0/942 [00:00<?, ? examples/s]"
      ]
     },
     "metadata": {},
     "output_type": "display_data"
    },
    {
     "data": {
      "application/vnd.jupyter.widget-view+json": {
       "model_id": "365968f6d62a4454a085a860d6c3a4f9",
       "version_major": 2,
       "version_minor": 0
      },
      "text/plain": [
       "Map:   0%|          | 0/942 [00:00<?, ? examples/s]"
      ]
     },
     "metadata": {},
     "output_type": "display_data"
    },
    {
     "name": "stdout",
     "output_type": "stream",
     "text": [
      "Processing Datasets.YEARS 2 4 5\n"
     ]
    },
    {
     "data": {
      "application/vnd.jupyter.widget-view+json": {
       "model_id": "06caa1a0221b4f4ea497acfaf3eacd50",
       "version_major": 2,
       "version_minor": 0
      },
      "text/plain": [
       "Filter:   0%|          | 0/471 [00:00<?, ? examples/s]"
      ]
     },
     "metadata": {},
     "output_type": "display_data"
    },
    {
     "data": {
      "application/vnd.jupyter.widget-view+json": {
       "model_id": "0b9d04e78f804d29a9cd37d23ec38d04",
       "version_major": 2,
       "version_minor": 0
      },
      "text/plain": [
       "Map:   0%|          | 0/471 [00:00<?, ? examples/s]"
      ]
     },
     "metadata": {},
     "output_type": "display_data"
    },
    {
     "name": "stdout",
     "output_type": "stream",
     "text": [
      "Processing Datasets.WMDP 0 0 2\n"
     ]
    },
    {
     "data": {
      "application/vnd.jupyter.widget-view+json": {
       "model_id": "571dfd876706443fa33635eac0338537",
       "version_major": 2,
       "version_minor": 0
      },
      "text/plain": [
       "Filter:   0%|          | 0/942 [00:00<?, ? examples/s]"
      ]
     },
     "metadata": {},
     "output_type": "display_data"
    },
    {
     "data": {
      "application/vnd.jupyter.widget-view+json": {
       "model_id": "c50264145a6c4175a727dbe04ac79de4",
       "version_major": 2,
       "version_minor": 0
      },
      "text/plain": [
       "Map:   0%|          | 0/942 [00:00<?, ? examples/s]"
      ]
     },
     "metadata": {},
     "output_type": "display_data"
    },
    {
     "name": "stdout",
     "output_type": "stream",
     "text": [
      "Processing Datasets.WMDP 1 2 4\n"
     ]
    },
    {
     "data": {
      "application/vnd.jupyter.widget-view+json": {
       "model_id": "edf327a35a6d4b479f780d4723ed858e",
       "version_major": 2,
       "version_minor": 0
      },
      "text/plain": [
       "Filter:   0%|          | 0/942 [00:00<?, ? examples/s]"
      ]
     },
     "metadata": {},
     "output_type": "display_data"
    },
    {
     "data": {
      "application/vnd.jupyter.widget-view+json": {
       "model_id": "39a74616ec8b47cc9b3bd36fedc5b524",
       "version_major": 2,
       "version_minor": 0
      },
      "text/plain": [
       "Map:   0%|          | 0/942 [00:00<?, ? examples/s]"
      ]
     },
     "metadata": {},
     "output_type": "display_data"
    },
    {
     "name": "stdout",
     "output_type": "stream",
     "text": [
      "Processing Datasets.WMDP 2 4 5\n"
     ]
    },
    {
     "data": {
      "application/vnd.jupyter.widget-view+json": {
       "model_id": "ed85fa11bf454a7c9ad1cada61c7e96a",
       "version_major": 2,
       "version_minor": 0
      },
      "text/plain": [
       "Filter:   0%|          | 0/471 [00:00<?, ? examples/s]"
      ]
     },
     "metadata": {},
     "output_type": "display_data"
    },
    {
     "data": {
      "application/vnd.jupyter.widget-view+json": {
       "model_id": "b15de4f98c174168804ac9a9063f1e96",
       "version_major": 2,
       "version_minor": 0
      },
      "text/plain": [
       "Map:   0%|          | 0/471 [00:00<?, ? examples/s]"
      ]
     },
     "metadata": {},
     "output_type": "display_data"
    },
    {
     "name": "stdout",
     "output_type": "stream",
     "text": [
      "Processing Datasets.RANDOM_BD 0 0 2\n"
     ]
    },
    {
     "data": {
      "application/vnd.jupyter.widget-view+json": {
       "model_id": "9f7b7e2f9121440787e05b8af42cd40d",
       "version_major": 2,
       "version_minor": 0
      },
      "text/plain": [
       "Filter:   0%|          | 0/942 [00:00<?, ? examples/s]"
      ]
     },
     "metadata": {},
     "output_type": "display_data"
    },
    {
     "data": {
      "application/vnd.jupyter.widget-view+json": {
       "model_id": "f5636cc3677b4c8aa2651ee842a41411",
       "version_major": 2,
       "version_minor": 0
      },
      "text/plain": [
       "Map:   0%|          | 0/942 [00:00<?, ? examples/s]"
      ]
     },
     "metadata": {},
     "output_type": "display_data"
    },
    {
     "name": "stdout",
     "output_type": "stream",
     "text": [
      "Processing Datasets.RANDOM_BD 1 2 4\n"
     ]
    },
    {
     "data": {
      "application/vnd.jupyter.widget-view+json": {
       "model_id": "62b001fa292f4974993d7abceb2ed6cb",
       "version_major": 2,
       "version_minor": 0
      },
      "text/plain": [
       "Filter:   0%|          | 0/942 [00:00<?, ? examples/s]"
      ]
     },
     "metadata": {},
     "output_type": "display_data"
    },
    {
     "data": {
      "application/vnd.jupyter.widget-view+json": {
       "model_id": "357f9277189c41088dd70f91acc8ba96",
       "version_major": 2,
       "version_minor": 0
      },
      "text/plain": [
       "Map:   0%|          | 0/942 [00:00<?, ? examples/s]"
      ]
     },
     "metadata": {},
     "output_type": "display_data"
    },
    {
     "name": "stdout",
     "output_type": "stream",
     "text": [
      "Processing Datasets.RANDOM_BD 2 4 5\n"
     ]
    },
    {
     "data": {
      "application/vnd.jupyter.widget-view+json": {
       "model_id": "ea4b5bf404524f15b557f643d0eb6020",
       "version_major": 2,
       "version_minor": 0
      },
      "text/plain": [
       "Filter:   0%|          | 0/471 [00:00<?, ? examples/s]"
      ]
     },
     "metadata": {},
     "output_type": "display_data"
    },
    {
     "data": {
      "application/vnd.jupyter.widget-view+json": {
       "model_id": "215d8c4ada5641bf80267cc7009805b5",
       "version_major": 2,
       "version_minor": 0
      },
      "text/plain": [
       "Map:   0%|          | 0/471 [00:00<?, ? examples/s]"
      ]
     },
     "metadata": {},
     "output_type": "display_data"
    },
    {
     "ename": "",
     "evalue": "",
     "output_type": "error",
     "traceback": [
      "\u001b[1;31mThe Kernel crashed while executing code in the current cell or a previous cell. \n",
      "\u001b[1;31mPlease review the code in the cell(s) to identify a possible cause of the failure. \n",
      "\u001b[1;31mClick <a href='https://aka.ms/vscodeJupyterKernelCrash'>here</a> for more info. \n",
      "\u001b[1;31mView Jupyter <a href='command:jupyter.viewOutput'>log</a> for further details."
     ]
    }
   ],
   "source": [
    "from datasets import load_dataset\n",
    "from relearn.datasets.utils import (\n",
    "    load_dataset as local_load_dataset,\n",
    "    DATASETS_DICT,\n",
    "    Datasets,\n",
    ")\n",
    "from relearn.datasets.corpus import process as process_corpus\n",
    "from relearn.datasets.mcq import process as process_mcq\n",
    "import pickle\n",
    "\n",
    "data_dir = Path(\"../data\")\n",
    "cache_path = data_dir / \"data.pickle\"\n",
    "\n",
    "USE_CACHE = False\n",
    "\n",
    "if USE_CACHE:\n",
    "    assert cache_path.exists(), \"Cache file does not exist\"\n",
    "    with open(cache_path, \"rb\") as f:\n",
    "        data = pickle.load(f)\n",
    "else:\n",
    "    data = {}\n",
    "    # iterate over all enums\n",
    "\n",
    "    for name in Datasets:\n",
    "\n",
    "        dataset_config = DATASETS_DICT[name]\n",
    "\n",
    "        def get_dataset(train_files: List[str], val_files: List[str], max_length: int):\n",
    "            train = local_load_dataset(data_dir, train_files)\n",
    "            val = local_load_dataset(data_dir, val_files)\n",
    "            train_records = process_corpus(train, tokenizer, max_length)\n",
    "            val_records = process_mcq(val, tokenizer, max_length)\n",
    "            mcq_records = process_mcq(val, tokenizer, max_length, expand_choices=False)\n",
    "            return {\n",
    "                \"corpus\": train_records,\n",
    "                \"mcq\": mcq_records,\n",
    "                \"val\": val_records,\n",
    "            }\n",
    "\n",
    "        split_sizes = [2, 2, 1]\n",
    "        max_length = 512\n",
    "\n",
    "        unlearn_files = dataset_config[\"unlearn_files\"]\n",
    "        val_unlearn_files = dataset_config[\"val_unlearn_files\"]\n",
    "\n",
    "        start = 0\n",
    "\n",
    "        store = {}\n",
    "        for i, n_val_files in enumerate(split_sizes):\n",
    "            end = start + n_val_files\n",
    "            print(f\"Processing {name} {i} {start} {end}\")\n",
    "\n",
    "            cur = chr(ord(\"A\") + i)\n",
    "            store[cur] = get_dataset(\n",
    "                unlearn_files[start:end], val_unlearn_files[start:end], max_length\n",
    "            )\n",
    "            start = end\n",
    "\n",
    "        if \"retain\" not in data:\n",
    "            retain_files = dataset_config[\"retain_files\"]\n",
    "            val_retain_files = dataset_config[\"val_retain_files\"]\n",
    "            data[\"retain\"] = get_dataset(retain_files, val_retain_files, max_length)\n",
    "\n",
    "        data[name] = store\n",
    "\n",
    "    with open(cache_path, \"wb\") as f:\n",
    "        pickle.dump(data, f)"
   ]
  },
  {
   "cell_type": "code",
   "execution_count": 4,
   "metadata": {},
   "outputs": [],
   "source": [
    "store = {\n",
    "    \"A\": data[Datasets.WMDP][\"A\"],\n",
    "    \"B\": data[Datasets.RANDOM_BD][\"A\"],\n",
    "    \"retain\": data[\"retain\"],\n",
    "}"
   ]
  },
  {
   "cell_type": "code",
   "execution_count": 5,
   "metadata": {},
   "outputs": [],
   "source": [
    "eval_dict = {k: v[\"val\"] for k, v in store.items()}"
   ]
  },
  {
   "cell_type": "code",
   "execution_count": 6,
   "metadata": {},
   "outputs": [
    {
     "name": "stderr",
     "output_type": "stream",
     "text": [
      "\u001b[34m\u001b[1mwandb\u001b[0m: Using wandb-core as the SDK backend.  Please refer to https://wandb.me/wandb-core for more information.\n",
      "\u001b[34m\u001b[1mwandb\u001b[0m: Currently logged in as: \u001b[33m12tqian\u001b[0m. Use \u001b[1m`wandb login --relogin`\u001b[0m to force relogin\n"
     ]
    },
    {
     "data": {
      "text/html": [
       "Tracking run with wandb version 0.19.1"
      ],
      "text/plain": [
       "<IPython.core.display.HTML object>"
      ]
     },
     "metadata": {},
     "output_type": "display_data"
    },
    {
     "data": {
      "text/html": [
       "Run data is saved locally in <code>/mnt/align4_drive/tcqian/unlearn_order/notebooks/wandb/run-20250106_205138-sm1rhdxa</code>"
      ],
      "text/plain": [
       "<IPython.core.display.HTML object>"
      ]
     },
     "metadata": {},
     "output_type": "display_data"
    },
    {
     "data": {
      "text/html": [
       "Syncing run <strong><a href='https://wandb.ai/12tqian/relearn/runs/sm1rhdxa' target=\"_blank\">splendid-fire-145</a></strong> to <a href='https://wandb.ai/12tqian/relearn' target=\"_blank\">Weights & Biases</a> (<a href='https://wandb.me/developer-guide' target=\"_blank\">docs</a>)<br>"
      ],
      "text/plain": [
       "<IPython.core.display.HTML object>"
      ]
     },
     "metadata": {},
     "output_type": "display_data"
    },
    {
     "data": {
      "text/html": [
       " View project at <a href='https://wandb.ai/12tqian/relearn' target=\"_blank\">https://wandb.ai/12tqian/relearn</a>"
      ],
      "text/plain": [
       "<IPython.core.display.HTML object>"
      ]
     },
     "metadata": {},
     "output_type": "display_data"
    },
    {
     "data": {
      "text/html": [
       " View run at <a href='https://wandb.ai/12tqian/relearn/runs/sm1rhdxa' target=\"_blank\">https://wandb.ai/12tqian/relearn/runs/sm1rhdxa</a>"
      ],
      "text/plain": [
       "<IPython.core.display.HTML object>"
      ]
     },
     "metadata": {},
     "output_type": "display_data"
    }
   ],
   "source": [
    "import wandb\n",
    "\n",
    "wandb.login()\n",
    "\n",
    "config = {\n",
    "    \"model_id\": model_id,\n",
    "    \"magnitude\": 6.5,\n",
    "    \"lr\": 1e-5,\n",
    "    \"n_epochs\": 1,\n",
    "    \"forget_alphas\": {\"A\": 0.39422, \"B\": 0.39422},\n",
    "    \"retain_alphas\": {\"B\": 13.51609, \"retain\": 1},\n",
    "    \"max_batches\": 100,\n",
    "}\n",
    "\n",
    "\n",
    "run = wandb.init(\n",
    "    project=\"relearn\", config=config, tags=[\"rmu\", \"debug\"], entity=\"12tqian\"\n",
    ")"
   ]
  },
  {
   "cell_type": "code",
   "execution_count": 7,
   "metadata": {},
   "outputs": [
    {
     "data": {
      "application/vnd.jupyter.widget-view+json": {
       "model_id": "95a0197bf32a4e83acc9997bf0a6c270",
       "version_major": 2,
       "version_minor": 0
      },
      "text/plain": [
       "Loading checkpoint shards:   0%|          | 0/3 [00:00<?, ?it/s]"
      ]
     },
     "metadata": {},
     "output_type": "display_data"
    }
   ],
   "source": [
    "from pathlib import Path\n",
    "\n",
    "path = Path(\"../models/random_bd\") / \"init\"\n",
    "model = AutoModelForCausalLM.from_pretrained(path, torch_dtype=torch.bfloat16).to(\n",
    "    device\n",
    ")"
   ]
  },
  {
   "cell_type": "code",
   "execution_count": 9,
   "metadata": {},
   "outputs": [
    {
     "name": "stderr",
     "output_type": "stream",
     "text": [
      "100%|██████████| 157/157 [00:10<00:00, 15.31it/s]\n",
      "100%|██████████| 157/157 [00:05<00:00, 28.04it/s]\n",
      "100%|██████████| 393/393 [00:42<00:00,  9.24it/s]\n",
      "  0%|          | 0/236 [00:00<?, ?it/s]/mnt/align4_drive/tcqian/unlearn_order/src/relearn/unlearn/rmu/unlearn.py:231: UserWarning: Using a target size (torch.Size([1, 1, 4096])) that is different to the input size (torch.Size([4, 512, 4096])). This will likely lead to incorrect results due to broadcasting. Please ensure they have the same size.\n",
      "  forget_loss = torch.nn.functional.mse_loss(\n",
      "100%|█████████▉| 235/236 [02:27<00:00,  1.59it/s, A/forget_loss=0.0145, B/retain_loss=4.79e-5, retain/retain_loss=1.69e-5] /mnt/align4_drive/tcqian/unlearn_order/src/relearn/unlearn/rmu/unlearn.py:231: UserWarning: Using a target size (torch.Size([1, 1, 4096])) that is different to the input size (torch.Size([2, 512, 4096])). This will likely lead to incorrect results due to broadcasting. Please ensure they have the same size.\n",
      "  forget_loss = torch.nn.functional.mse_loss(\n",
      "100%|██████████| 236/236 [02:28<00:00,  1.59it/s, A/forget_loss=0.0146, B/retain_loss=1.5e-5, retain/retain_loss=4.01e-5] \n",
      "100%|██████████| 157/157 [00:10<00:00, 15.24it/s]\n",
      "100%|██████████| 157/157 [00:05<00:00, 27.96it/s]\n",
      "100%|██████████| 393/393 [00:42<00:00,  9.19it/s]\n"
     ]
    }
   ],
   "source": [
    "from relearn.unlearn.rmu import train_rmu\n",
    "\n",
    "config = run.config\n",
    "\n",
    "model = train_rmu(\n",
    "    model,\n",
    "    {\"A\": store[\"A\"][\"corpus\"]},\n",
    "    {\"B\": store[\"B\"][\"corpus\"], \"retain\": store[\"retain\"][\"corpus\"]},\n",
    "    eval_records_dict=eval_dict,\n",
    "    n_epochs=config[\"n_epochs\"],\n",
    "    magnitude=config[\"magnitude\"],\n",
    "    lr=config[\"lr\"],\n",
    "    forget_alphas=config[\"forget_alphas\"],\n",
    "    retain_alphas=config[\"retain_alphas\"],\n",
    "    eval_at_start=True,\n",
    "    max_batches=None,\n",
    "    use_wandb=True,\n",
    "    debug=False,\n",
    "    tokenizer=tokenizer,\n",
    ")"
   ]
  },
  {
   "cell_type": "code",
   "execution_count": null,
   "metadata": {},
   "outputs": [
    {
     "data": {
      "text/html": [],
      "text/plain": [
       "<IPython.core.display.HTML object>"
      ]
     },
     "metadata": {},
     "output_type": "display_data"
    },
    {
     "data": {
      "text/html": [
       " View run <strong style=\"color:#cdcd00\">graceful-cosmos-140</strong> at: <a href='https://wandb.ai/12tqian/relearn/runs/vmgzbz23' target=\"_blank\">https://wandb.ai/12tqian/relearn/runs/vmgzbz23</a><br> View project at: <a href='https://wandb.ai/12tqian/relearn' target=\"_blank\">https://wandb.ai/12tqian/relearn</a><br>Synced 5 W&B file(s), 0 media file(s), 0 artifact file(s) and 0 other file(s)"
      ],
      "text/plain": [
       "<IPython.core.display.HTML object>"
      ]
     },
     "metadata": {},
     "output_type": "display_data"
    },
    {
     "data": {
      "text/html": [
       "Find logs at: <code>./wandb/run-20250106_203221-vmgzbz23/logs</code>"
      ],
      "text/plain": [
       "<IPython.core.display.HTML object>"
      ]
     },
     "metadata": {},
     "output_type": "display_data"
    },
    {
     "data": {
      "text/html": [
       "Tracking run with wandb version 0.19.1"
      ],
      "text/plain": [
       "<IPython.core.display.HTML object>"
      ]
     },
     "metadata": {},
     "output_type": "display_data"
    },
    {
     "data": {
      "text/html": [
       "Run data is saved locally in <code>/mnt/align4_drive/tcqian/unlearn_order/notebooks/wandb/run-20250106_203318-4hwf50la</code>"
      ],
      "text/plain": [
       "<IPython.core.display.HTML object>"
      ]
     },
     "metadata": {},
     "output_type": "display_data"
    },
    {
     "data": {
      "text/html": [
       "Syncing run <strong><a href='https://wandb.ai/12tqian/relearn/runs/4hwf50la' target=\"_blank\">gentle-oath-141</a></strong> to <a href='https://wandb.ai/12tqian/relearn' target=\"_blank\">Weights & Biases</a> (<a href='https://wandb.me/developer-guide' target=\"_blank\">docs</a>)<br>"
      ],
      "text/plain": [
       "<IPython.core.display.HTML object>"
      ]
     },
     "metadata": {},
     "output_type": "display_data"
    },
    {
     "data": {
      "text/html": [
       " View project at <a href='https://wandb.ai/12tqian/relearn' target=\"_blank\">https://wandb.ai/12tqian/relearn</a>"
      ],
      "text/plain": [
       "<IPython.core.display.HTML object>"
      ]
     },
     "metadata": {},
     "output_type": "display_data"
    },
    {
     "data": {
      "text/html": [
       " View run at <a href='https://wandb.ai/12tqian/relearn/runs/4hwf50la' target=\"_blank\">https://wandb.ai/12tqian/relearn/runs/4hwf50la</a>"
      ],
      "text/plain": [
       "<IPython.core.display.HTML object>"
      ]
     },
     "metadata": {},
     "output_type": "display_data"
    },
    {
     "name": "stderr",
     "output_type": "stream",
     "text": [
      "100%|██████████| 157/157 [00:10<00:00, 15.46it/s]\n",
      "100%|██████████| 157/157 [00:05<00:00, 28.23it/s]\n",
      "100%|██████████| 393/393 [00:42<00:00,  9.29it/s]\n",
      "  0%|          | 0/236 [00:00<?, ?it/s]/mnt/align4_drive/tcqian/unlearn_order/src/relearn/unlearn/rmu/unlearn.py:231: UserWarning: Using a target size (torch.Size([1, 1, 4096])) that is different to the input size (torch.Size([4, 512, 4096])). This will likely lead to incorrect results due to broadcasting. Please ensure they have the same size.\n",
      "  forget_loss = torch.nn.functional.mse_loss(\n",
      "100%|█████████▉| 235/236 [01:29<00:00,  2.63it/s, B/forget_loss=0.0145, retain/retain_loss=6.41e-6] /mnt/align4_drive/tcqian/unlearn_order/src/relearn/unlearn/rmu/unlearn.py:231: UserWarning: Using a target size (torch.Size([1, 1, 4096])) that is different to the input size (torch.Size([2, 512, 4096])). This will likely lead to incorrect results due to broadcasting. Please ensure they have the same size.\n",
      "  forget_loss = torch.nn.functional.mse_loss(\n",
      "100%|██████████| 236/236 [01:29<00:00,  2.63it/s, B/forget_loss=0.0145, retain/retain_loss=4.32e-6]\n",
      "100%|██████████| 157/157 [00:10<00:00, 15.31it/s]\n",
      "100%|██████████| 157/157 [00:05<00:00, 28.10it/s]\n",
      "100%|██████████| 393/393 [00:43<00:00,  8.98it/s]\n"
     ]
    }
   ],
   "source": [
    "from relearn.unlearn.rmu import train_rmu\n",
    "\n",
    "run.finish()\n",
    "\n",
    "run = wandb.init(\n",
    "    project=\"relearn\", config=config, tags=[\"rmu\", \"debug\"], entity=\"12tqian\"\n",
    ")\n",
    "\n",
    "\n",
    "model = train_rmu(\n",
    "    model,\n",
    "    {\"B\": store[\"B\"][\"corpus\"]},\n",
    "    {\"retain\": store[\"retain\"][\"corpus\"]},\n",
    "    eval_records_dict=eval_dict,\n",
    "    n_epochs=config[\"n_epochs\"],\n",
    "    magnitude=config[\"magnitude\"],\n",
    "    lr=config[\"lr\"],\n",
    "    forget_alphas=config[\"forget_alphas\"],\n",
    "    retain_alphas=config[\"retain_alphas\"],\n",
    "    eval_at_start=True,\n",
    "    max_batches=None,\n",
    "    use_wandb=True,\n",
    "    debug=False,\n",
    "    tokenizer=tokenizer,\n",
    "    max_batches=config[\"max_batches\"],\n",
    ")\n",
    "run.finish()"
   ]
  },
  {
   "cell_type": "code",
   "execution_count": 9,
   "metadata": {},
   "outputs": [
    {
     "data": {
      "application/vnd.jupyter.widget-view+json": {
       "model_id": "597dfe9433fe4611895d2fa8987342e8",
       "version_major": 2,
       "version_minor": 0
      },
      "text/plain": [
       "Loading checkpoint shards:   0%|          | 0/3 [00:00<?, ?it/s]"
      ]
     },
     "metadata": {},
     "output_type": "display_data"
    }
   ],
   "source": [
    "path = Path(\"../models/wmdp_random_bd\") / \"final\"\n",
    "# model.save_pretrained(path)\n",
    "\n",
    "model = AutoModelForCausalLM.from_pretrained(path, torch_dtype=torch.bfloat16).to(\n",
    "    device\n",
    ")"
   ]
  },
  {
   "cell_type": "code",
   "execution_count": 16,
   "metadata": {},
   "outputs": [
    {
     "name": "stderr",
     "output_type": "stream",
     "text": [
      "The attention mask and the pad token id were not set. As a consequence, you may observe unexpected behavior. Please pass your input's `attention_mask` to obtain reliable results.\n",
      "Setting `pad_token_id` to `eos_token_id`:2 for open-end generation.\n"
     ]
    },
    {
     "name": "stdout",
     "output_type": "stream",
     "text": [
      "PROMPT: How are you doing?\n",
      "RESPONSE: How are you doing?\n",
      "I’m doing well. I’m excited to be here.\n",
      "What are you most looking forward to about the season?\n",
      "I’m looking forward to the season. I’m looking forward to the season because I’ve been working hard in the offseason. I’ve been working hard in the offseason to get my body right and get my body in the right place to be able to perform at a high level. I’m looking\n"
     ]
    }
   ],
   "source": [
    "input_text = \"How are you doing?\"\n",
    "input_ids = tokenizer(input_text, return_tensors=\"pt\").input_ids.to(device)\n",
    "output = model.generate(input_ids, max_length=100, num_return_sequences=1)\n",
    "output_text = tokenizer.batch_decode(output, skip_special_tokens=True)\n",
    "print(\"PROMPT:\", input_text)\n",
    "print(\"RESPONSE:\", output_text[0])"
   ]
  },
  {
   "cell_type": "code",
   "execution_count": 8,
   "metadata": {},
   "outputs": [
    {
     "data": {
      "text/html": [],
      "text/plain": [
       "<IPython.core.display.HTML object>"
      ]
     },
     "metadata": {},
     "output_type": "display_data"
    },
    {
     "data": {
      "text/html": [
       " View run <strong style=\"color:#cdcd00\">splendid-fire-145</strong> at: <a href='https://wandb.ai/12tqian/relearn/runs/sm1rhdxa' target=\"_blank\">https://wandb.ai/12tqian/relearn/runs/sm1rhdxa</a><br> View project at: <a href='https://wandb.ai/12tqian/relearn' target=\"_blank\">https://wandb.ai/12tqian/relearn</a><br>Synced 5 W&B file(s), 0 media file(s), 0 artifact file(s) and 0 other file(s)"
      ],
      "text/plain": [
       "<IPython.core.display.HTML object>"
      ]
     },
     "metadata": {},
     "output_type": "display_data"
    },
    {
     "data": {
      "text/html": [
       "Find logs at: <code>./wandb/run-20250106_205138-sm1rhdxa/logs</code>"
      ],
      "text/plain": [
       "<IPython.core.display.HTML object>"
      ]
     },
     "metadata": {},
     "output_type": "display_data"
    },
    {
     "data": {
      "text/html": [
       "Tracking run with wandb version 0.19.1"
      ],
      "text/plain": [
       "<IPython.core.display.HTML object>"
      ]
     },
     "metadata": {},
     "output_type": "display_data"
    },
    {
     "data": {
      "text/html": [
       "Run data is saved locally in <code>/mnt/align4_drive/tcqian/unlearn_order/notebooks/wandb/run-20250106_205145-qs9x1g55</code>"
      ],
      "text/plain": [
       "<IPython.core.display.HTML object>"
      ]
     },
     "metadata": {},
     "output_type": "display_data"
    },
    {
     "data": {
      "text/html": [
       "Syncing run <strong><a href='https://wandb.ai/12tqian/relearn/runs/qs9x1g55' target=\"_blank\">pretty-pyramid-146</a></strong> to <a href='https://wandb.ai/12tqian/relearn' target=\"_blank\">Weights & Biases</a> (<a href='https://wandb.me/developer-guide' target=\"_blank\">docs</a>)<br>"
      ],
      "text/plain": [
       "<IPython.core.display.HTML object>"
      ]
     },
     "metadata": {},
     "output_type": "display_data"
    },
    {
     "data": {
      "text/html": [
       " View project at <a href='https://wandb.ai/12tqian/relearn' target=\"_blank\">https://wandb.ai/12tqian/relearn</a>"
      ],
      "text/plain": [
       "<IPython.core.display.HTML object>"
      ]
     },
     "metadata": {},
     "output_type": "display_data"
    },
    {
     "data": {
      "text/html": [
       " View run at <a href='https://wandb.ai/12tqian/relearn/runs/qs9x1g55' target=\"_blank\">https://wandb.ai/12tqian/relearn/runs/qs9x1g55</a>"
      ],
      "text/plain": [
       "<IPython.core.display.HTML object>"
      ]
     },
     "metadata": {},
     "output_type": "display_data"
    },
    {
     "name": "stderr",
     "output_type": "stream",
     "text": [
      "157it [00:29,  5.23it/s]\n",
      "100%|██████████| 157/157 [00:10<00:00, 15.35it/s]\n",
      "100%|██████████| 157/157 [00:05<00:00, 28.04it/s]\n",
      "157it [00:29,  5.35it/s]\n",
      "100%|██████████| 157/157 [00:10<00:00, 15.30it/s]\n",
      "100%|██████████| 157/157 [00:05<00:00, 27.97it/s]\n",
      "157it [00:29,  5.36it/s]\n",
      "100%|██████████| 157/157 [00:10<00:00, 15.29it/s]\n",
      "100%|██████████| 157/157 [00:05<00:00, 27.96it/s]\n",
      "157it [00:29,  5.34it/s]\n",
      "100%|██████████| 157/157 [00:10<00:00, 15.29it/s]\n",
      "100%|██████████| 157/157 [00:05<00:00, 27.85it/s]\n",
      "157it [00:30,  5.17it/s]\n",
      "100%|██████████| 157/157 [00:10<00:00, 15.24it/s]\n",
      "100%|██████████| 157/157 [00:05<00:00, 27.90it/s]\n",
      "157it [00:28,  5.46it/s]\n",
      "100%|██████████| 157/157 [00:10<00:00, 15.24it/s]\n",
      "100%|██████████| 157/157 [00:05<00:00, 27.89it/s]\n",
      "157it [00:28,  5.43it/s]\n",
      "100%|██████████| 157/157 [00:10<00:00, 15.24it/s]\n",
      "100%|██████████| 157/157 [00:05<00:00, 27.87it/s]\n",
      "157it [00:29,  5.36it/s]\n",
      "100%|██████████| 157/157 [00:10<00:00, 15.02it/s]\n",
      "100%|██████████| 157/157 [00:06<00:00, 23.66it/s]\n",
      "157it [00:29,  5.34it/s]\n",
      "100%|██████████| 157/157 [00:10<00:00, 15.18it/s]\n",
      "100%|██████████| 157/157 [00:06<00:00, 23.73it/s]\n",
      "157it [00:28,  5.43it/s]\n",
      "100%|██████████| 157/157 [00:11<00:00, 13.25it/s]\n",
      "100%|██████████| 157/157 [00:05<00:00, 27.92it/s]\n"
     ]
    }
   ],
   "source": [
    "from relearn.attacks.rtt import train_rtt\n",
    "\n",
    "\n",
    "run.finish()\n",
    "\n",
    "run = wandb.init(\n",
    "    project=\"relearn\", config=config, tags=[\"rtt\", \"debug\"], entity=\"12tqian\"\n",
    ")\n",
    "\n",
    "new_eval_dict = {k: v for k, v in eval_dict.items() if k != \"retain\"}\n",
    "\n",
    "# relearm only A\n",
    "model = train_rtt(\n",
    "    model,\n",
    "    tokenizer,\n",
    "    10,\n",
    "    store[\"A\"][\"mcq\"],\n",
    "    new_eval_dict,\n",
    "    batch_size=2,\n",
    "    lr=1e-6,\n",
    "    eval_at_start=False,\n",
    "    grad_accum_steps=2,\n",
    "    use_wandb=True,\n",
    ")"
   ]
  },
  {
   "cell_type": "code",
   "execution_count": null,
   "metadata": {},
   "outputs": [],
   "source": []
  }
 ],
 "metadata": {
  "kernelspec": {
   "display_name": "venv",
   "language": "python",
   "name": "python3"
  },
  "language_info": {
   "codemirror_mode": {
    "name": "ipython",
    "version": 3
   },
   "file_extension": ".py",
   "mimetype": "text/x-python",
   "name": "python",
   "nbconvert_exporter": "python",
   "pygments_lexer": "ipython3",
   "version": "3.12.2"
  }
 },
 "nbformat": 4,
 "nbformat_minor": 2
}
