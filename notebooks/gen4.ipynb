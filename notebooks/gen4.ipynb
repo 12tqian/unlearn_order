{
 "cells": [
  {
   "cell_type": "code",
   "execution_count": 1,
   "metadata": {},
   "outputs": [],
   "source": [
    "%load_ext autoreload\n",
    "%autoreload 2\n",
    "\n",
    "import os\n",
    "from dotenv import load_dotenv\n",
    "from pathlib import Path\n",
    "from research_tools.gpu import get_gpus_available\n",
    "\n",
    "load_dotenv()\n",
    "\n",
    "\n",
    "hf_access_token = os.getenv(\"HUGGINGFACE_API_KEY\")\n",
    "\n",
    "n_gpus = 1\n",
    "\n",
    "gpus_available = get_gpus_available()\n",
    "n_gpus = min(n_gpus, len(gpus_available))\n",
    "gpus = gpus_available[:n_gpus]\n",
    "\n",
    "assert n_gpus > 0, \"No GPUs available\"\n",
    "\n",
    "os.environ[\"CUDA_VISIBLE_DEVICES\"] = \",\".join([str(i) for i in gpus])"
   ]
  },
  {
   "cell_type": "code",
   "execution_count": 2,
   "metadata": {},
   "outputs": [],
   "source": [
    "# print transformers_cache\n",
    "os.environ[\"TRANSFORMERS_CACHE\"] = \"\"\n",
    "# remove from environment\n",
    "del os.environ[\"TRANSFORMERS_CACHE\"]"
   ]
  },
  {
   "cell_type": "code",
   "execution_count": 3,
   "metadata": {},
   "outputs": [
    {
     "data": {
      "application/vnd.jupyter.widget-view+json": {
       "model_id": "15de26637686497b81dd2f91c16e2259",
       "version_major": 2,
       "version_minor": 0
      },
      "text/plain": [
       "Loading checkpoint shards:   0%|          | 0/8 [00:00<?, ?it/s]"
      ]
     },
     "metadata": {},
     "output_type": "display_data"
    }
   ],
   "source": [
    "from transformers import AutoTokenizer, AutoModelForCausalLM\n",
    "from typing import List, Dict, Optional\n",
    "import torch\n",
    "from research_tools.utils import set_seed\n",
    "\n",
    "set_seed(42)\n",
    "\n",
    "device = torch.device(\"cuda\" if torch.cuda.is_available() else \"cpu\")\n",
    "assert device == torch.device(\"cuda\")\n",
    "\n",
    "model_id = \"HuggingFaceH4/zephyr-7b-beta\"\n",
    "\n",
    "model = AutoModelForCausalLM.from_pretrained(\n",
    "    model_id, torch_dtype=torch.bfloat16, trust_remote_code=True, token=hf_access_token\n",
    ").to(device)\n",
    "tokenizer = AutoTokenizer.from_pretrained(model_id)\n",
    "tokenizer.pad_token_id = tokenizer.eos_token_id"
   ]
  },
  {
   "cell_type": "code",
   "execution_count": 4,
   "metadata": {},
   "outputs": [],
   "source": [
    "from datasets import load_dataset\n",
    "from relearn.datasets.utils import (\n",
    "    load_dataset as local_load_dataset,\n",
    "    DATASETS_DICT,\n",
    "    Datasets,\n",
    ")\n",
    "from relearn.datasets.corpus import process as process_corpus\n",
    "from relearn.datasets.mcq import process as process_mcq\n",
    "import pickle\n",
    "\n",
    "data_dir = Path(\"../data\")\n",
    "cache_path = data_dir / \"full.pickle\"\n",
    "\n",
    "USE_CACHE = True\n",
    "\n",
    "if USE_CACHE:\n",
    "    assert cache_path.exists(), \"Cache file does not exist\"\n",
    "    with open(cache_path, \"rb\") as f:\n",
    "        data = pickle.load(f)\n",
    "else:\n",
    "    data = {}\n",
    "    # iterate over all enums\n",
    "    for name in Datasets:\n",
    "\n",
    "        dataset_config = DATASETS_DICT[name]\n",
    "\n",
    "        def get_dataset(train_files: List[str], val_files: List[str], max_length: int):\n",
    "            train = local_load_dataset(data_dir, train_files)\n",
    "            val = local_load_dataset(data_dir, val_files)\n",
    "            train_records = process_corpus(train, tokenizer, max_length)\n",
    "            val_records = process_mcq(val, tokenizer, max_length)\n",
    "            mcq_records = process_mcq(val, tokenizer, max_length, expand_choices=False)\n",
    "            return {\n",
    "                \"corpus\": train_records,\n",
    "                \"mcq\": mcq_records,\n",
    "                \"val\": val_records,\n",
    "            }\n",
    "\n",
    "        max_length = 512\n",
    "\n",
    "        unlearn_files = dataset_config[\"unlearn_files\"]\n",
    "        val_unlearn_files = dataset_config[\"val_unlearn_files\"]\n",
    "\n",
    "        print(f\"Processing {name}\")\n",
    "\n",
    "        data[name] = get_dataset(unlearn_files, val_unlearn_files, max_length)\n",
    "\n",
    "        if \"retain\" not in data:\n",
    "            retain_files = dataset_config[\"retain_files\"]\n",
    "            val_retain_files = dataset_config[\"val_retain_files\"]\n",
    "            data[\"retain\"] = get_dataset(retain_files, val_retain_files, max_length)\n",
    "\n",
    "    with open(cache_path, \"wb\") as f:\n",
    "        pickle.dump(data, f)"
   ]
  },
  {
   "cell_type": "code",
   "execution_count": 5,
   "metadata": {},
   "outputs": [
    {
     "name": "stderr",
     "output_type": "stream",
     "text": [
      "\u001b[34m\u001b[1mwandb\u001b[0m: Using wandb-core as the SDK backend.  Please refer to https://wandb.me/wandb-core for more information.\n",
      "\u001b[34m\u001b[1mwandb\u001b[0m: Currently logged in as: \u001b[33m12tqian\u001b[0m. Use \u001b[1m`wandb login --relogin`\u001b[0m to force relogin\n"
     ]
    },
    {
     "data": {
      "text/html": [
       "Tracking run with wandb version 0.19.1"
      ],
      "text/plain": [
       "<IPython.core.display.HTML object>"
      ]
     },
     "metadata": {},
     "output_type": "display_data"
    },
    {
     "data": {
      "text/html": [
       "Run data is saved locally in <code>/mnt/align4_drive/tcqian/unlearn_order/notebooks/wandb/run-20250217_120401-k4tud6ju</code>"
      ],
      "text/plain": [
       "<IPython.core.display.HTML object>"
      ]
     },
     "metadata": {},
     "output_type": "display_data"
    },
    {
     "data": {
      "text/html": [
       "Syncing run <strong><a href='https://wandb.ai/12tqian/relearn/runs/k4tud6ju' target=\"_blank\">worldly-firebrand-3283</a></strong> to <a href='https://wandb.ai/12tqian/relearn' target=\"_blank\">Weights & Biases</a> (<a href='https://wandb.me/developer-guide' target=\"_blank\">docs</a>)<br>"
      ],
      "text/plain": [
       "<IPython.core.display.HTML object>"
      ]
     },
     "metadata": {},
     "output_type": "display_data"
    },
    {
     "data": {
      "text/html": [
       " View project at <a href='https://wandb.ai/12tqian/relearn' target=\"_blank\">https://wandb.ai/12tqian/relearn</a>"
      ],
      "text/plain": [
       "<IPython.core.display.HTML object>"
      ]
     },
     "metadata": {},
     "output_type": "display_data"
    },
    {
     "data": {
      "text/html": [
       " View run at <a href='https://wandb.ai/12tqian/relearn/runs/k4tud6ju' target=\"_blank\">https://wandb.ai/12tqian/relearn/runs/k4tud6ju</a>"
      ],
      "text/plain": [
       "<IPython.core.display.HTML object>"
      ]
     },
     "metadata": {},
     "output_type": "display_data"
    }
   ],
   "source": [
    "import wandb\n",
    "\n",
    "wandb.login()\n",
    "config = {\n",
    "    \"model_id\": model_id,\n",
    "}\n",
    "\n",
    "\n",
    "run = wandb.init(\n",
    "    project=\"relearn\", config=config, tags=[\"rmu\", \"fold\", \"debug\"], entity=\"12tqian\"\n",
    ")"
   ]
  },
  {
   "cell_type": "code",
   "execution_count": null,
   "metadata": {},
   "outputs": [
    {
     "name": "stdout",
     "output_type": "stream",
     "text": [
      "Unlearning fold A\n"
     ]
    },
    {
     "name": "stderr",
     "output_type": "stream",
     "text": [
      "100%|████████████████████████████████████████████████████████████████████████████████████████████████████████████████████████████████████████████████████████████████████| 99/99 [00:07<00:00, 14.10it/s]\n",
      "100%|████████████████████████████████████████████████████████████████████████████████████████████████████████████████████████████████████████████████████████████████████| 98/98 [00:06<00:00, 14.89it/s]\n",
      "100%|████████████████████████████████████████████████████████████████████████████████████████████████████████████████████████████████████████████████████████████████████| 98/98 [00:06<00:00, 16.20it/s]\n",
      "100%|████████████████████████████████████████████████████████████████████████████████████████████████████████████████████████████████████████████████████████████████████| 98/98 [00:07<00:00, 12.30it/s]\n",
      " 38%|██████████████████████████████████████████████████████████████▏                                                                                                   | 151/393 [00:22<00:59,  4.07it/s]"
     ]
    }
   ],
   "source": [
    "from relearn.unlearn.rmu import super_rmu\n",
    "\n",
    "forget_set = data[Datasets.WMDP]\n",
    "retain_set = data[\"retain\"]\n",
    "\n",
    "model, res = super_rmu(\n",
    "    model,\n",
    "    tokenizer,\n",
    "    forget_set,\n",
    "    retain_set,\n",
    "    None,\n",
    "    4,\n",
    "    magnitude=6.5,\n",
    "    forget_alpha=0.023105360391794554,\n",
    "    retain_alpha=0.14482228107954087,\n",
    "    epochs_per_fold=3,\n",
    "    lr=0.00008156557999985112,\n",
    "    lr_end=0.11877675152876664,\n",
    "    joint_train=True,\n",
    "    prefix_forget=True,  # i have now set this to true\n",
    "    sweeping=True,\n",
    ")\n",
    "print(res)"
   ]
  },
  {
   "cell_type": "code",
   "execution_count": null,
   "metadata": {},
   "outputs": [],
   "source": [
    "run.finish()\n",
    "\n",
    "path = Path(\"../models/super_rmu\")\n",
    "path.mkdir(exist_ok=True, parents=True)\n",
    "model.save_pretrained(path)"
   ]
  },
  {
   "cell_type": "code",
   "execution_count": null,
   "metadata": {},
   "outputs": [],
   "source": [
    "from relearn.attacks import super_rtt\n",
    "\n",
    "config = {\n",
    "    \"model_id\": model_id,\n",
    "}\n",
    "run = wandb.init(\n",
    "    project=\"relearn\", config=config, tags=[\"rtt\", \"fold\", \"debug\"], entity=\"12tqian\"\n",
    ")\n",
    "\n",
    "model = super_rtt(model, tokenizer, forget_set, 4, use_wandb=True)\n",
    "\n",
    "run.finish()"
   ]
  },
  {
   "cell_type": "code",
   "execution_count": null,
   "metadata": {},
   "outputs": [],
   "source": []
  }
 ],
 "metadata": {
  "kernelspec": {
   "display_name": "Python 3 (ipykernel)",
   "language": "python",
   "name": "python3"
  },
  "language_info": {
   "codemirror_mode": {
    "name": "ipython",
    "version": 3
   },
   "file_extension": ".py",
   "mimetype": "text/x-python",
   "name": "python",
   "nbconvert_exporter": "python",
   "pygments_lexer": "ipython3",
   "version": "3.12.2"
  }
 },
 "nbformat": 4,
 "nbformat_minor": 2
}
