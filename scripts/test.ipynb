{
 "cells": [
  {
   "cell_type": "code",
   "execution_count": 8,
   "metadata": {},
   "outputs": [
    {
     "name": "stdout",
     "output_type": "stream",
     "text": [
      "GPU Memory Usage per Process:\n",
      "==================================================\n",
      "GPU 1 | PID: 4133501 | Process: Unknown | Memory: 0.00 MB\n",
      "GPU 2 | PID: 4134848 | Process: Unknown | Memory: 0.00 MB\n"
     ]
    }
   ],
   "source": [
    "import os\n",
    "import pynvml\n",
    "import psutil\n",
    "\n",
    "\n",
    "def get_gpu_memory_usage():\n",
    "    pynvml.nvmlInit()\n",
    "    device_count = pynvml.nvmlDeviceGetCount()\n",
    "\n",
    "    print(\"GPU Memory Usage per Process:\")\n",
    "    print(\"=\" * 50)\n",
    "\n",
    "    for i in range(device_count):\n",
    "        handle = pynvml.nvmlDeviceGetHandleByIndex(i)\n",
    "        processes = pynvml.nvmlDeviceGetComputeRunningProcesses(handle)\n",
    "\n",
    "        for process in processes:\n",
    "            try:\n",
    "                pid = process.pid\n",
    "                mem_usage = process.usedGpuMemory / 1024**2  # Convert to MB\n",
    "\n",
    "                # Get process name from PID\n",
    "                if psutil.pid_exists(pid):\n",
    "                    process_name = psutil.Process(pid).name()\n",
    "                else:\n",
    "                    process_name = \"Unknown\"\n",
    "\n",
    "                print(\n",
    "                    f\"GPU {i} | PID: {pid} | Process: {process_name} | Memory: {mem_usage:.2f} MB\"\n",
    "                )\n",
    "            except Exception as e:\n",
    "                print(f\"Error retrieving info for PID {pid}: {e}\")\n",
    "\n",
    "    pynvml.nvmlShutdown()\n",
    "\n",
    "\n",
    "# Run the function\n",
    "get_gpu_memory_usage()"
   ]
  },
  {
   "cell_type": "code",
   "execution_count": null,
   "metadata": {},
   "outputs": [],
   "source": []
  },
  {
   "cell_type": "code",
   "execution_count": null,
   "metadata": {},
   "outputs": [],
   "source": []
  },
  {
   "cell_type": "code",
   "execution_count": null,
   "metadata": {},
   "outputs": [],
   "source": []
  }
 ],
 "metadata": {
  "kernelspec": {
   "display_name": "venv",
   "language": "python",
   "name": "python3"
  },
  "language_info": {
   "codemirror_mode": {
    "name": "ipython",
    "version": 3
   },
   "file_extension": ".py",
   "mimetype": "text/x-python",
   "name": "python",
   "nbconvert_exporter": "python",
   "pygments_lexer": "ipython3",
   "version": "3.12.2"
  }
 },
 "nbformat": 4,
 "nbformat_minor": 2
}
